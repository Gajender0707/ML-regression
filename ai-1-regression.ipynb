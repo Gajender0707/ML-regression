{
 "cells": [
  {
   "cell_type": "code",
   "execution_count": 1,
   "id": "29805fdf",
   "metadata": {
    "_cell_guid": "b1076dfc-b9ad-4769-8c92-a6c4dae69d19",
    "_uuid": "8f2839f25d086af736a60e9eeb907d3b93b6e0e5",
    "execution": {
     "iopub.execute_input": "2022-09-27T09:29:23.828129Z",
     "iopub.status.busy": "2022-09-27T09:29:23.827161Z",
     "iopub.status.idle": "2022-09-27T09:29:23.848586Z",
     "shell.execute_reply": "2022-09-27T09:29:23.847133Z"
    },
    "papermill": {
     "duration": 0.038393,
     "end_time": "2022-09-27T09:29:23.851751",
     "exception": false,
     "start_time": "2022-09-27T09:29:23.813358",
     "status": "completed"
    },
    "tags": []
   },
   "outputs": [
    {
     "name": "stdout",
     "output_type": "stream",
     "text": [
      "/kaggle/input/the-boston-houseprice-data/boston.csv\n"
     ]
    }
   ],
   "source": [
    "# This Python 3 environment comes with many helpful analytics libraries installed\n",
    "# It is defined by the kaggle/python Docker image: https://github.com/kaggle/docker-python\n",
    "# For example, here's several helpful packages to load\n",
    "\n",
    "import numpy as np # linear algebra\n",
    "import pandas as pd # data processing, CSV file I/O (e.g. pd.read_csv)\n",
    "\n",
    "# Input data files are available in the read-only \"../input/\" directory\n",
    "# For example, running this (by clicking run or pressing Shift+Enter) will list all files under the input directory\n",
    "\n",
    "import os\n",
    "for dirname, _, filenames in os.walk('/kaggle/input'):\n",
    "    for filename in filenames:\n",
    "        print(os.path.join(dirname, filename))\n",
    "\n",
    "# You can write up to 20GB to the current directory (/kaggle/working/) that gets preserved as output when you create a version using \"Save & Run All\" \n",
    "# You can also write temporary files to /kaggle/temp/, but they won't be saved outside of the current session"
   ]
  },
  {
   "cell_type": "code",
   "execution_count": 2,
   "id": "33161d85",
   "metadata": {
    "execution": {
     "iopub.execute_input": "2022-09-27T09:29:23.876223Z",
     "iopub.status.busy": "2022-09-27T09:29:23.875566Z",
     "iopub.status.idle": "2022-09-27T09:29:23.880521Z",
     "shell.execute_reply": "2022-09-27T09:29:23.879683Z"
    },
    "papermill": {
     "duration": 0.019668,
     "end_time": "2022-09-27T09:29:23.882877",
     "exception": false,
     "start_time": "2022-09-27T09:29:23.863209",
     "status": "completed"
    },
    "tags": []
   },
   "outputs": [],
   "source": [
    "import pandas as pd\n",
    "import numpy as np"
   ]
  },
  {
   "cell_type": "code",
   "execution_count": 3,
   "id": "d87024b6",
   "metadata": {
    "execution": {
     "iopub.execute_input": "2022-09-27T09:29:23.908708Z",
     "iopub.status.busy": "2022-09-27T09:29:23.908043Z",
     "iopub.status.idle": "2022-09-27T09:29:23.930729Z",
     "shell.execute_reply": "2022-09-27T09:29:23.929163Z"
    },
    "papermill": {
     "duration": 0.040052,
     "end_time": "2022-09-27T09:29:23.933801",
     "exception": false,
     "start_time": "2022-09-27T09:29:23.893749",
     "status": "completed"
    },
    "tags": []
   },
   "outputs": [],
   "source": [
    "data=pd.read_csv(\"../input/the-boston-houseprice-data/boston.csv\")"
   ]
  },
  {
   "cell_type": "code",
   "execution_count": 4,
   "id": "d559c6b7",
   "metadata": {
    "execution": {
     "iopub.execute_input": "2022-09-27T09:29:23.957670Z",
     "iopub.status.busy": "2022-09-27T09:29:23.957208Z",
     "iopub.status.idle": "2022-09-27T09:29:23.995437Z",
     "shell.execute_reply": "2022-09-27T09:29:23.994135Z"
    },
    "papermill": {
     "duration": 0.052983,
     "end_time": "2022-09-27T09:29:23.997966",
     "exception": false,
     "start_time": "2022-09-27T09:29:23.944983",
     "status": "completed"
    },
    "tags": []
   },
   "outputs": [
    {
     "data": {
      "text/html": [
       "<div>\n",
       "<style scoped>\n",
       "    .dataframe tbody tr th:only-of-type {\n",
       "        vertical-align: middle;\n",
       "    }\n",
       "\n",
       "    .dataframe tbody tr th {\n",
       "        vertical-align: top;\n",
       "    }\n",
       "\n",
       "    .dataframe thead th {\n",
       "        text-align: right;\n",
       "    }\n",
       "</style>\n",
       "<table border=\"1\" class=\"dataframe\">\n",
       "  <thead>\n",
       "    <tr style=\"text-align: right;\">\n",
       "      <th></th>\n",
       "      <th>CRIM</th>\n",
       "      <th>ZN</th>\n",
       "      <th>INDUS</th>\n",
       "      <th>CHAS</th>\n",
       "      <th>NOX</th>\n",
       "      <th>RM</th>\n",
       "      <th>AGE</th>\n",
       "      <th>DIS</th>\n",
       "      <th>RAD</th>\n",
       "      <th>TAX</th>\n",
       "      <th>PTRATIO</th>\n",
       "      <th>B</th>\n",
       "      <th>LSTAT</th>\n",
       "      <th>MEDV</th>\n",
       "    </tr>\n",
       "  </thead>\n",
       "  <tbody>\n",
       "    <tr>\n",
       "      <th>0</th>\n",
       "      <td>0.00632</td>\n",
       "      <td>18.0</td>\n",
       "      <td>2.31</td>\n",
       "      <td>0</td>\n",
       "      <td>0.538</td>\n",
       "      <td>6.575</td>\n",
       "      <td>65.2</td>\n",
       "      <td>4.0900</td>\n",
       "      <td>1</td>\n",
       "      <td>296.0</td>\n",
       "      <td>15.3</td>\n",
       "      <td>396.90</td>\n",
       "      <td>4.98</td>\n",
       "      <td>24.0</td>\n",
       "    </tr>\n",
       "    <tr>\n",
       "      <th>1</th>\n",
       "      <td>0.02731</td>\n",
       "      <td>0.0</td>\n",
       "      <td>7.07</td>\n",
       "      <td>0</td>\n",
       "      <td>0.469</td>\n",
       "      <td>6.421</td>\n",
       "      <td>78.9</td>\n",
       "      <td>4.9671</td>\n",
       "      <td>2</td>\n",
       "      <td>242.0</td>\n",
       "      <td>17.8</td>\n",
       "      <td>396.90</td>\n",
       "      <td>9.14</td>\n",
       "      <td>21.6</td>\n",
       "    </tr>\n",
       "    <tr>\n",
       "      <th>2</th>\n",
       "      <td>0.02729</td>\n",
       "      <td>0.0</td>\n",
       "      <td>7.07</td>\n",
       "      <td>0</td>\n",
       "      <td>0.469</td>\n",
       "      <td>7.185</td>\n",
       "      <td>61.1</td>\n",
       "      <td>4.9671</td>\n",
       "      <td>2</td>\n",
       "      <td>242.0</td>\n",
       "      <td>17.8</td>\n",
       "      <td>392.83</td>\n",
       "      <td>4.03</td>\n",
       "      <td>34.7</td>\n",
       "    </tr>\n",
       "    <tr>\n",
       "      <th>3</th>\n",
       "      <td>0.03237</td>\n",
       "      <td>0.0</td>\n",
       "      <td>2.18</td>\n",
       "      <td>0</td>\n",
       "      <td>0.458</td>\n",
       "      <td>6.998</td>\n",
       "      <td>45.8</td>\n",
       "      <td>6.0622</td>\n",
       "      <td>3</td>\n",
       "      <td>222.0</td>\n",
       "      <td>18.7</td>\n",
       "      <td>394.63</td>\n",
       "      <td>2.94</td>\n",
       "      <td>33.4</td>\n",
       "    </tr>\n",
       "    <tr>\n",
       "      <th>4</th>\n",
       "      <td>0.06905</td>\n",
       "      <td>0.0</td>\n",
       "      <td>2.18</td>\n",
       "      <td>0</td>\n",
       "      <td>0.458</td>\n",
       "      <td>7.147</td>\n",
       "      <td>54.2</td>\n",
       "      <td>6.0622</td>\n",
       "      <td>3</td>\n",
       "      <td>222.0</td>\n",
       "      <td>18.7</td>\n",
       "      <td>396.90</td>\n",
       "      <td>5.33</td>\n",
       "      <td>36.2</td>\n",
       "    </tr>\n",
       "  </tbody>\n",
       "</table>\n",
       "</div>"
      ],
      "text/plain": [
       "      CRIM    ZN  INDUS  CHAS    NOX     RM   AGE     DIS  RAD    TAX  \\\n",
       "0  0.00632  18.0   2.31     0  0.538  6.575  65.2  4.0900    1  296.0   \n",
       "1  0.02731   0.0   7.07     0  0.469  6.421  78.9  4.9671    2  242.0   \n",
       "2  0.02729   0.0   7.07     0  0.469  7.185  61.1  4.9671    2  242.0   \n",
       "3  0.03237   0.0   2.18     0  0.458  6.998  45.8  6.0622    3  222.0   \n",
       "4  0.06905   0.0   2.18     0  0.458  7.147  54.2  6.0622    3  222.0   \n",
       "\n",
       "   PTRATIO       B  LSTAT  MEDV  \n",
       "0     15.3  396.90   4.98  24.0  \n",
       "1     17.8  396.90   9.14  21.6  \n",
       "2     17.8  392.83   4.03  34.7  \n",
       "3     18.7  394.63   2.94  33.4  \n",
       "4     18.7  396.90   5.33  36.2  "
      ]
     },
     "execution_count": 4,
     "metadata": {},
     "output_type": "execute_result"
    }
   ],
   "source": [
    "data.head()"
   ]
  },
  {
   "cell_type": "code",
   "execution_count": 5,
   "id": "c0f99d50",
   "metadata": {
    "execution": {
     "iopub.execute_input": "2022-09-27T09:29:24.021846Z",
     "iopub.status.busy": "2022-09-27T09:29:24.021331Z",
     "iopub.status.idle": "2022-09-27T09:29:24.028917Z",
     "shell.execute_reply": "2022-09-27T09:29:24.027755Z"
    },
    "papermill": {
     "duration": 0.022246,
     "end_time": "2022-09-27T09:29:24.031202",
     "exception": false,
     "start_time": "2022-09-27T09:29:24.008956",
     "status": "completed"
    },
    "tags": []
   },
   "outputs": [
    {
     "data": {
      "text/plain": [
       "(506, 14)"
      ]
     },
     "execution_count": 5,
     "metadata": {},
     "output_type": "execute_result"
    }
   ],
   "source": [
    "data.shape"
   ]
  },
  {
   "cell_type": "code",
   "execution_count": 6,
   "id": "284b3ebf",
   "metadata": {
    "execution": {
     "iopub.execute_input": "2022-09-27T09:29:24.055780Z",
     "iopub.status.busy": "2022-09-27T09:29:24.055348Z",
     "iopub.status.idle": "2022-09-27T09:29:24.068967Z",
     "shell.execute_reply": "2022-09-27T09:29:24.067700Z"
    },
    "papermill": {
     "duration": 0.028971,
     "end_time": "2022-09-27T09:29:24.071334",
     "exception": false,
     "start_time": "2022-09-27T09:29:24.042363",
     "status": "completed"
    },
    "tags": []
   },
   "outputs": [
    {
     "data": {
      "text/plain": [
       "0      24.0\n",
       "1      21.6\n",
       "2      34.7\n",
       "3      33.4\n",
       "4      36.2\n",
       "       ... \n",
       "501    22.4\n",
       "502    20.6\n",
       "503    23.9\n",
       "504    22.0\n",
       "505    11.9\n",
       "Name: MEDV, Length: 506, dtype: float64"
      ]
     },
     "execution_count": 6,
     "metadata": {},
     "output_type": "execute_result"
    }
   ],
   "source": [
    "data.MEDV"
   ]
  },
  {
   "cell_type": "code",
   "execution_count": 7,
   "id": "ad44e597",
   "metadata": {
    "execution": {
     "iopub.execute_input": "2022-09-27T09:29:24.095430Z",
     "iopub.status.busy": "2022-09-27T09:29:24.095055Z",
     "iopub.status.idle": "2022-09-27T09:29:24.105009Z",
     "shell.execute_reply": "2022-09-27T09:29:24.103797Z"
    },
    "papermill": {
     "duration": 0.024915,
     "end_time": "2022-09-27T09:29:24.107366",
     "exception": false,
     "start_time": "2022-09-27T09:29:24.082451",
     "status": "completed"
    },
    "tags": []
   },
   "outputs": [
    {
     "data": {
      "text/plain": [
       "CRIM       False\n",
       "ZN         False\n",
       "INDUS      False\n",
       "CHAS       False\n",
       "NOX        False\n",
       "RM         False\n",
       "AGE        False\n",
       "DIS        False\n",
       "RAD        False\n",
       "TAX        False\n",
       "PTRATIO    False\n",
       "B          False\n",
       "LSTAT      False\n",
       "MEDV       False\n",
       "dtype: bool"
      ]
     },
     "execution_count": 7,
     "metadata": {},
     "output_type": "execute_result"
    }
   ],
   "source": [
    "data.isnull().any()"
   ]
  },
  {
   "cell_type": "code",
   "execution_count": 8,
   "id": "30935513",
   "metadata": {
    "execution": {
     "iopub.execute_input": "2022-09-27T09:29:24.132011Z",
     "iopub.status.busy": "2022-09-27T09:29:24.131530Z",
     "iopub.status.idle": "2022-09-27T09:29:24.149611Z",
     "shell.execute_reply": "2022-09-27T09:29:24.148720Z"
    },
    "papermill": {
     "duration": 0.033243,
     "end_time": "2022-09-27T09:29:24.152060",
     "exception": false,
     "start_time": "2022-09-27T09:29:24.118817",
     "status": "completed"
    },
    "tags": []
   },
   "outputs": [],
   "source": [
    "data=data.drop_duplicates()"
   ]
  },
  {
   "cell_type": "code",
   "execution_count": 9,
   "id": "a5965c02",
   "metadata": {
    "execution": {
     "iopub.execute_input": "2022-09-27T09:29:24.176571Z",
     "iopub.status.busy": "2022-09-27T09:29:24.176149Z",
     "iopub.status.idle": "2022-09-27T09:29:24.183339Z",
     "shell.execute_reply": "2022-09-27T09:29:24.182242Z"
    },
    "papermill": {
     "duration": 0.022041,
     "end_time": "2022-09-27T09:29:24.185609",
     "exception": false,
     "start_time": "2022-09-27T09:29:24.163568",
     "status": "completed"
    },
    "tags": []
   },
   "outputs": [
    {
     "data": {
      "text/plain": [
       "(506, 14)"
      ]
     },
     "execution_count": 9,
     "metadata": {},
     "output_type": "execute_result"
    }
   ],
   "source": [
    "data.shape"
   ]
  },
  {
   "cell_type": "code",
   "execution_count": 10,
   "id": "2475ac16",
   "metadata": {
    "execution": {
     "iopub.execute_input": "2022-09-27T09:29:24.210082Z",
     "iopub.status.busy": "2022-09-27T09:29:24.209624Z",
     "iopub.status.idle": "2022-09-27T09:29:30.378738Z",
     "shell.execute_reply": "2022-09-27T09:29:30.377650Z"
    },
    "papermill": {
     "duration": 6.184285,
     "end_time": "2022-09-27T09:29:30.381365",
     "exception": false,
     "start_time": "2022-09-27T09:29:24.197080",
     "status": "completed"
    },
    "tags": []
   },
   "outputs": [],
   "source": [
    "from tensorflow import keras"
   ]
  },
  {
   "cell_type": "code",
   "execution_count": 11,
   "id": "d3c2e3ed",
   "metadata": {
    "execution": {
     "iopub.execute_input": "2022-09-27T09:29:30.408039Z",
     "iopub.status.busy": "2022-09-27T09:29:30.406730Z",
     "iopub.status.idle": "2022-09-27T09:29:32.466199Z",
     "shell.execute_reply": "2022-09-27T09:29:32.465171Z"
    },
    "papermill": {
     "duration": 2.075225,
     "end_time": "2022-09-27T09:29:32.468892",
     "exception": false,
     "start_time": "2022-09-27T09:29:30.393667",
     "status": "completed"
    },
    "tags": []
   },
   "outputs": [],
   "source": [
    "import tensorflow as tf\n",
    "from tensorflow.keras.models import Sequential\n",
    "from tensorflow.keras.layers import Dense\n",
    "from tensorflow.keras.optimizers import Adagrad\n",
    "from tensorflow.keras.optimizers import Adam\n",
    "from tensorflow.keras.optimizers import RMSprop\n",
    "from sklearn.model_selection import cross_val_score\n",
    "from sklearn.model_selection import KFold\n",
    "from tensorflow.keras.utils import to_categorical\n",
    "from tensorflow.keras.layers import Dropout\n",
    "from tensorflow.keras.layers import BatchNormalization\n",
    "from keras.models import Sequential\n",
    "from keras.layers import Conv2D, MaxPool2D, Dense, Flatten, Dropout\n",
    "from keras.preprocessing.image import ImageDataGenerator\n",
    "from keras.applications.vgg16 import VGG16\n",
    "from keras.models import Model"
   ]
  },
  {
   "cell_type": "code",
   "execution_count": 12,
   "id": "3804d086",
   "metadata": {
    "execution": {
     "iopub.execute_input": "2022-09-27T09:29:32.493696Z",
     "iopub.status.busy": "2022-09-27T09:29:32.492976Z",
     "iopub.status.idle": "2022-09-27T09:29:32.514742Z",
     "shell.execute_reply": "2022-09-27T09:29:32.513599Z"
    },
    "papermill": {
     "duration": 0.036928,
     "end_time": "2022-09-27T09:29:32.517172",
     "exception": false,
     "start_time": "2022-09-27T09:29:32.480244",
     "status": "completed"
    },
    "tags": []
   },
   "outputs": [
    {
     "data": {
      "text/html": [
       "<div>\n",
       "<style scoped>\n",
       "    .dataframe tbody tr th:only-of-type {\n",
       "        vertical-align: middle;\n",
       "    }\n",
       "\n",
       "    .dataframe tbody tr th {\n",
       "        vertical-align: top;\n",
       "    }\n",
       "\n",
       "    .dataframe thead th {\n",
       "        text-align: right;\n",
       "    }\n",
       "</style>\n",
       "<table border=\"1\" class=\"dataframe\">\n",
       "  <thead>\n",
       "    <tr style=\"text-align: right;\">\n",
       "      <th></th>\n",
       "      <th>CRIM</th>\n",
       "      <th>ZN</th>\n",
       "      <th>INDUS</th>\n",
       "      <th>CHAS</th>\n",
       "      <th>NOX</th>\n",
       "      <th>RM</th>\n",
       "      <th>AGE</th>\n",
       "      <th>DIS</th>\n",
       "      <th>RAD</th>\n",
       "      <th>TAX</th>\n",
       "      <th>PTRATIO</th>\n",
       "      <th>B</th>\n",
       "      <th>LSTAT</th>\n",
       "      <th>MEDV</th>\n",
       "    </tr>\n",
       "  </thead>\n",
       "  <tbody>\n",
       "    <tr>\n",
       "      <th>0</th>\n",
       "      <td>0.00632</td>\n",
       "      <td>18.0</td>\n",
       "      <td>2.31</td>\n",
       "      <td>0</td>\n",
       "      <td>0.538</td>\n",
       "      <td>6.575</td>\n",
       "      <td>65.2</td>\n",
       "      <td>4.0900</td>\n",
       "      <td>1</td>\n",
       "      <td>296.0</td>\n",
       "      <td>15.3</td>\n",
       "      <td>396.90</td>\n",
       "      <td>4.98</td>\n",
       "      <td>24.0</td>\n",
       "    </tr>\n",
       "    <tr>\n",
       "      <th>1</th>\n",
       "      <td>0.02731</td>\n",
       "      <td>0.0</td>\n",
       "      <td>7.07</td>\n",
       "      <td>0</td>\n",
       "      <td>0.469</td>\n",
       "      <td>6.421</td>\n",
       "      <td>78.9</td>\n",
       "      <td>4.9671</td>\n",
       "      <td>2</td>\n",
       "      <td>242.0</td>\n",
       "      <td>17.8</td>\n",
       "      <td>396.90</td>\n",
       "      <td>9.14</td>\n",
       "      <td>21.6</td>\n",
       "    </tr>\n",
       "    <tr>\n",
       "      <th>2</th>\n",
       "      <td>0.02729</td>\n",
       "      <td>0.0</td>\n",
       "      <td>7.07</td>\n",
       "      <td>0</td>\n",
       "      <td>0.469</td>\n",
       "      <td>7.185</td>\n",
       "      <td>61.1</td>\n",
       "      <td>4.9671</td>\n",
       "      <td>2</td>\n",
       "      <td>242.0</td>\n",
       "      <td>17.8</td>\n",
       "      <td>392.83</td>\n",
       "      <td>4.03</td>\n",
       "      <td>34.7</td>\n",
       "    </tr>\n",
       "    <tr>\n",
       "      <th>3</th>\n",
       "      <td>0.03237</td>\n",
       "      <td>0.0</td>\n",
       "      <td>2.18</td>\n",
       "      <td>0</td>\n",
       "      <td>0.458</td>\n",
       "      <td>6.998</td>\n",
       "      <td>45.8</td>\n",
       "      <td>6.0622</td>\n",
       "      <td>3</td>\n",
       "      <td>222.0</td>\n",
       "      <td>18.7</td>\n",
       "      <td>394.63</td>\n",
       "      <td>2.94</td>\n",
       "      <td>33.4</td>\n",
       "    </tr>\n",
       "    <tr>\n",
       "      <th>4</th>\n",
       "      <td>0.06905</td>\n",
       "      <td>0.0</td>\n",
       "      <td>2.18</td>\n",
       "      <td>0</td>\n",
       "      <td>0.458</td>\n",
       "      <td>7.147</td>\n",
       "      <td>54.2</td>\n",
       "      <td>6.0622</td>\n",
       "      <td>3</td>\n",
       "      <td>222.0</td>\n",
       "      <td>18.7</td>\n",
       "      <td>396.90</td>\n",
       "      <td>5.33</td>\n",
       "      <td>36.2</td>\n",
       "    </tr>\n",
       "  </tbody>\n",
       "</table>\n",
       "</div>"
      ],
      "text/plain": [
       "      CRIM    ZN  INDUS  CHAS    NOX     RM   AGE     DIS  RAD    TAX  \\\n",
       "0  0.00632  18.0   2.31     0  0.538  6.575  65.2  4.0900    1  296.0   \n",
       "1  0.02731   0.0   7.07     0  0.469  6.421  78.9  4.9671    2  242.0   \n",
       "2  0.02729   0.0   7.07     0  0.469  7.185  61.1  4.9671    2  242.0   \n",
       "3  0.03237   0.0   2.18     0  0.458  6.998  45.8  6.0622    3  222.0   \n",
       "4  0.06905   0.0   2.18     0  0.458  7.147  54.2  6.0622    3  222.0   \n",
       "\n",
       "   PTRATIO       B  LSTAT  MEDV  \n",
       "0     15.3  396.90   4.98  24.0  \n",
       "1     17.8  396.90   9.14  21.6  \n",
       "2     17.8  392.83   4.03  34.7  \n",
       "3     18.7  394.63   2.94  33.4  \n",
       "4     18.7  396.90   5.33  36.2  "
      ]
     },
     "execution_count": 12,
     "metadata": {},
     "output_type": "execute_result"
    }
   ],
   "source": [
    "data.head()"
   ]
  },
  {
   "cell_type": "code",
   "execution_count": 13,
   "id": "9d8ac02b",
   "metadata": {
    "execution": {
     "iopub.execute_input": "2022-09-27T09:29:32.542728Z",
     "iopub.status.busy": "2022-09-27T09:29:32.541464Z",
     "iopub.status.idle": "2022-09-27T09:29:32.547170Z",
     "shell.execute_reply": "2022-09-27T09:29:32.546018Z"
    },
    "papermill": {
     "duration": 0.020777,
     "end_time": "2022-09-27T09:29:32.549469",
     "exception": false,
     "start_time": "2022-09-27T09:29:32.528692",
     "status": "completed"
    },
    "tags": []
   },
   "outputs": [],
   "source": [
    "y=data[\"MEDV\"]"
   ]
  },
  {
   "cell_type": "code",
   "execution_count": 14,
   "id": "0dc05cb2",
   "metadata": {
    "execution": {
     "iopub.execute_input": "2022-09-27T09:29:32.574321Z",
     "iopub.status.busy": "2022-09-27T09:29:32.573867Z",
     "iopub.status.idle": "2022-09-27T09:29:32.580116Z",
     "shell.execute_reply": "2022-09-27T09:29:32.578891Z"
    },
    "papermill": {
     "duration": 0.021652,
     "end_time": "2022-09-27T09:29:32.582518",
     "exception": false,
     "start_time": "2022-09-27T09:29:32.560866",
     "status": "completed"
    },
    "tags": []
   },
   "outputs": [],
   "source": [
    "x=data.drop(\"MEDV\",axis=1)"
   ]
  },
  {
   "cell_type": "code",
   "execution_count": 15,
   "id": "bd89c180",
   "metadata": {
    "execution": {
     "iopub.execute_input": "2022-09-27T09:29:32.609054Z",
     "iopub.status.busy": "2022-09-27T09:29:32.608308Z",
     "iopub.status.idle": "2022-09-27T09:29:32.617872Z",
     "shell.execute_reply": "2022-09-27T09:29:32.616620Z"
    },
    "papermill": {
     "duration": 0.025867,
     "end_time": "2022-09-27T09:29:32.620386",
     "exception": false,
     "start_time": "2022-09-27T09:29:32.594519",
     "status": "completed"
    },
    "tags": []
   },
   "outputs": [
    {
     "data": {
      "text/plain": [
       "0      24.0\n",
       "1      21.6\n",
       "2      34.7\n",
       "3      33.4\n",
       "4      36.2\n",
       "       ... \n",
       "501    22.4\n",
       "502    20.6\n",
       "503    23.9\n",
       "504    22.0\n",
       "505    11.9\n",
       "Name: MEDV, Length: 506, dtype: float64"
      ]
     },
     "execution_count": 15,
     "metadata": {},
     "output_type": "execute_result"
    }
   ],
   "source": [
    "y"
   ]
  },
  {
   "cell_type": "code",
   "execution_count": 16,
   "id": "e6055873",
   "metadata": {
    "execution": {
     "iopub.execute_input": "2022-09-27T09:29:32.645850Z",
     "iopub.status.busy": "2022-09-27T09:29:32.645424Z",
     "iopub.status.idle": "2022-09-27T09:29:32.675635Z",
     "shell.execute_reply": "2022-09-27T09:29:32.674470Z"
    },
    "papermill": {
     "duration": 0.046492,
     "end_time": "2022-09-27T09:29:32.678418",
     "exception": false,
     "start_time": "2022-09-27T09:29:32.631926",
     "status": "completed"
    },
    "tags": []
   },
   "outputs": [
    {
     "data": {
      "text/html": [
       "<div>\n",
       "<style scoped>\n",
       "    .dataframe tbody tr th:only-of-type {\n",
       "        vertical-align: middle;\n",
       "    }\n",
       "\n",
       "    .dataframe tbody tr th {\n",
       "        vertical-align: top;\n",
       "    }\n",
       "\n",
       "    .dataframe thead th {\n",
       "        text-align: right;\n",
       "    }\n",
       "</style>\n",
       "<table border=\"1\" class=\"dataframe\">\n",
       "  <thead>\n",
       "    <tr style=\"text-align: right;\">\n",
       "      <th></th>\n",
       "      <th>CRIM</th>\n",
       "      <th>ZN</th>\n",
       "      <th>INDUS</th>\n",
       "      <th>CHAS</th>\n",
       "      <th>NOX</th>\n",
       "      <th>RM</th>\n",
       "      <th>AGE</th>\n",
       "      <th>DIS</th>\n",
       "      <th>RAD</th>\n",
       "      <th>TAX</th>\n",
       "      <th>PTRATIO</th>\n",
       "      <th>B</th>\n",
       "      <th>LSTAT</th>\n",
       "    </tr>\n",
       "  </thead>\n",
       "  <tbody>\n",
       "    <tr>\n",
       "      <th>0</th>\n",
       "      <td>0.00632</td>\n",
       "      <td>18.0</td>\n",
       "      <td>2.31</td>\n",
       "      <td>0</td>\n",
       "      <td>0.538</td>\n",
       "      <td>6.575</td>\n",
       "      <td>65.2</td>\n",
       "      <td>4.0900</td>\n",
       "      <td>1</td>\n",
       "      <td>296.0</td>\n",
       "      <td>15.3</td>\n",
       "      <td>396.90</td>\n",
       "      <td>4.98</td>\n",
       "    </tr>\n",
       "    <tr>\n",
       "      <th>1</th>\n",
       "      <td>0.02731</td>\n",
       "      <td>0.0</td>\n",
       "      <td>7.07</td>\n",
       "      <td>0</td>\n",
       "      <td>0.469</td>\n",
       "      <td>6.421</td>\n",
       "      <td>78.9</td>\n",
       "      <td>4.9671</td>\n",
       "      <td>2</td>\n",
       "      <td>242.0</td>\n",
       "      <td>17.8</td>\n",
       "      <td>396.90</td>\n",
       "      <td>9.14</td>\n",
       "    </tr>\n",
       "    <tr>\n",
       "      <th>2</th>\n",
       "      <td>0.02729</td>\n",
       "      <td>0.0</td>\n",
       "      <td>7.07</td>\n",
       "      <td>0</td>\n",
       "      <td>0.469</td>\n",
       "      <td>7.185</td>\n",
       "      <td>61.1</td>\n",
       "      <td>4.9671</td>\n",
       "      <td>2</td>\n",
       "      <td>242.0</td>\n",
       "      <td>17.8</td>\n",
       "      <td>392.83</td>\n",
       "      <td>4.03</td>\n",
       "    </tr>\n",
       "    <tr>\n",
       "      <th>3</th>\n",
       "      <td>0.03237</td>\n",
       "      <td>0.0</td>\n",
       "      <td>2.18</td>\n",
       "      <td>0</td>\n",
       "      <td>0.458</td>\n",
       "      <td>6.998</td>\n",
       "      <td>45.8</td>\n",
       "      <td>6.0622</td>\n",
       "      <td>3</td>\n",
       "      <td>222.0</td>\n",
       "      <td>18.7</td>\n",
       "      <td>394.63</td>\n",
       "      <td>2.94</td>\n",
       "    </tr>\n",
       "    <tr>\n",
       "      <th>4</th>\n",
       "      <td>0.06905</td>\n",
       "      <td>0.0</td>\n",
       "      <td>2.18</td>\n",
       "      <td>0</td>\n",
       "      <td>0.458</td>\n",
       "      <td>7.147</td>\n",
       "      <td>54.2</td>\n",
       "      <td>6.0622</td>\n",
       "      <td>3</td>\n",
       "      <td>222.0</td>\n",
       "      <td>18.7</td>\n",
       "      <td>396.90</td>\n",
       "      <td>5.33</td>\n",
       "    </tr>\n",
       "    <tr>\n",
       "      <th>...</th>\n",
       "      <td>...</td>\n",
       "      <td>...</td>\n",
       "      <td>...</td>\n",
       "      <td>...</td>\n",
       "      <td>...</td>\n",
       "      <td>...</td>\n",
       "      <td>...</td>\n",
       "      <td>...</td>\n",
       "      <td>...</td>\n",
       "      <td>...</td>\n",
       "      <td>...</td>\n",
       "      <td>...</td>\n",
       "      <td>...</td>\n",
       "    </tr>\n",
       "    <tr>\n",
       "      <th>501</th>\n",
       "      <td>0.06263</td>\n",
       "      <td>0.0</td>\n",
       "      <td>11.93</td>\n",
       "      <td>0</td>\n",
       "      <td>0.573</td>\n",
       "      <td>6.593</td>\n",
       "      <td>69.1</td>\n",
       "      <td>2.4786</td>\n",
       "      <td>1</td>\n",
       "      <td>273.0</td>\n",
       "      <td>21.0</td>\n",
       "      <td>391.99</td>\n",
       "      <td>9.67</td>\n",
       "    </tr>\n",
       "    <tr>\n",
       "      <th>502</th>\n",
       "      <td>0.04527</td>\n",
       "      <td>0.0</td>\n",
       "      <td>11.93</td>\n",
       "      <td>0</td>\n",
       "      <td>0.573</td>\n",
       "      <td>6.120</td>\n",
       "      <td>76.7</td>\n",
       "      <td>2.2875</td>\n",
       "      <td>1</td>\n",
       "      <td>273.0</td>\n",
       "      <td>21.0</td>\n",
       "      <td>396.90</td>\n",
       "      <td>9.08</td>\n",
       "    </tr>\n",
       "    <tr>\n",
       "      <th>503</th>\n",
       "      <td>0.06076</td>\n",
       "      <td>0.0</td>\n",
       "      <td>11.93</td>\n",
       "      <td>0</td>\n",
       "      <td>0.573</td>\n",
       "      <td>6.976</td>\n",
       "      <td>91.0</td>\n",
       "      <td>2.1675</td>\n",
       "      <td>1</td>\n",
       "      <td>273.0</td>\n",
       "      <td>21.0</td>\n",
       "      <td>396.90</td>\n",
       "      <td>5.64</td>\n",
       "    </tr>\n",
       "    <tr>\n",
       "      <th>504</th>\n",
       "      <td>0.10959</td>\n",
       "      <td>0.0</td>\n",
       "      <td>11.93</td>\n",
       "      <td>0</td>\n",
       "      <td>0.573</td>\n",
       "      <td>6.794</td>\n",
       "      <td>89.3</td>\n",
       "      <td>2.3889</td>\n",
       "      <td>1</td>\n",
       "      <td>273.0</td>\n",
       "      <td>21.0</td>\n",
       "      <td>393.45</td>\n",
       "      <td>6.48</td>\n",
       "    </tr>\n",
       "    <tr>\n",
       "      <th>505</th>\n",
       "      <td>0.04741</td>\n",
       "      <td>0.0</td>\n",
       "      <td>11.93</td>\n",
       "      <td>0</td>\n",
       "      <td>0.573</td>\n",
       "      <td>6.030</td>\n",
       "      <td>80.8</td>\n",
       "      <td>2.5050</td>\n",
       "      <td>1</td>\n",
       "      <td>273.0</td>\n",
       "      <td>21.0</td>\n",
       "      <td>396.90</td>\n",
       "      <td>7.88</td>\n",
       "    </tr>\n",
       "  </tbody>\n",
       "</table>\n",
       "<p>506 rows × 13 columns</p>\n",
       "</div>"
      ],
      "text/plain": [
       "        CRIM    ZN  INDUS  CHAS    NOX     RM   AGE     DIS  RAD    TAX  \\\n",
       "0    0.00632  18.0   2.31     0  0.538  6.575  65.2  4.0900    1  296.0   \n",
       "1    0.02731   0.0   7.07     0  0.469  6.421  78.9  4.9671    2  242.0   \n",
       "2    0.02729   0.0   7.07     0  0.469  7.185  61.1  4.9671    2  242.0   \n",
       "3    0.03237   0.0   2.18     0  0.458  6.998  45.8  6.0622    3  222.0   \n",
       "4    0.06905   0.0   2.18     0  0.458  7.147  54.2  6.0622    3  222.0   \n",
       "..       ...   ...    ...   ...    ...    ...   ...     ...  ...    ...   \n",
       "501  0.06263   0.0  11.93     0  0.573  6.593  69.1  2.4786    1  273.0   \n",
       "502  0.04527   0.0  11.93     0  0.573  6.120  76.7  2.2875    1  273.0   \n",
       "503  0.06076   0.0  11.93     0  0.573  6.976  91.0  2.1675    1  273.0   \n",
       "504  0.10959   0.0  11.93     0  0.573  6.794  89.3  2.3889    1  273.0   \n",
       "505  0.04741   0.0  11.93     0  0.573  6.030  80.8  2.5050    1  273.0   \n",
       "\n",
       "     PTRATIO       B  LSTAT  \n",
       "0       15.3  396.90   4.98  \n",
       "1       17.8  396.90   9.14  \n",
       "2       17.8  392.83   4.03  \n",
       "3       18.7  394.63   2.94  \n",
       "4       18.7  396.90   5.33  \n",
       "..       ...     ...    ...  \n",
       "501     21.0  391.99   9.67  \n",
       "502     21.0  396.90   9.08  \n",
       "503     21.0  396.90   5.64  \n",
       "504     21.0  393.45   6.48  \n",
       "505     21.0  396.90   7.88  \n",
       "\n",
       "[506 rows x 13 columns]"
      ]
     },
     "execution_count": 16,
     "metadata": {},
     "output_type": "execute_result"
    }
   ],
   "source": [
    "x"
   ]
  },
  {
   "cell_type": "code",
   "execution_count": 17,
   "id": "932d6750",
   "metadata": {
    "execution": {
     "iopub.execute_input": "2022-09-27T09:29:32.704565Z",
     "iopub.status.busy": "2022-09-27T09:29:32.704159Z",
     "iopub.status.idle": "2022-09-27T09:29:32.711094Z",
     "shell.execute_reply": "2022-09-27T09:29:32.709695Z"
    },
    "papermill": {
     "duration": 0.02324,
     "end_time": "2022-09-27T09:29:32.713924",
     "exception": false,
     "start_time": "2022-09-27T09:29:32.690684",
     "status": "completed"
    },
    "tags": []
   },
   "outputs": [],
   "source": [
    "from sklearn.model_selection import train_test_split\n",
    "x_train, x_test, y_train, y_test = train_test_split(x, y,test_size=1/3)\n",
    "#x_train, x_test, y_train, y_test = train_test_split(x1, y1, test_size = 1/3, random_state = 0), test_size = 1/3, random_state = 0)"
   ]
  },
  {
   "cell_type": "code",
   "execution_count": 18,
   "id": "8867fdb9",
   "metadata": {
    "execution": {
     "iopub.execute_input": "2022-09-27T09:29:32.739779Z",
     "iopub.status.busy": "2022-09-27T09:29:32.739367Z",
     "iopub.status.idle": "2022-09-27T09:29:32.768400Z",
     "shell.execute_reply": "2022-09-27T09:29:32.767198Z"
    },
    "papermill": {
     "duration": 0.04486,
     "end_time": "2022-09-27T09:29:32.770830",
     "exception": false,
     "start_time": "2022-09-27T09:29:32.725970",
     "status": "completed"
    },
    "tags": []
   },
   "outputs": [
    {
     "data": {
      "text/html": [
       "<div>\n",
       "<style scoped>\n",
       "    .dataframe tbody tr th:only-of-type {\n",
       "        vertical-align: middle;\n",
       "    }\n",
       "\n",
       "    .dataframe tbody tr th {\n",
       "        vertical-align: top;\n",
       "    }\n",
       "\n",
       "    .dataframe thead th {\n",
       "        text-align: right;\n",
       "    }\n",
       "</style>\n",
       "<table border=\"1\" class=\"dataframe\">\n",
       "  <thead>\n",
       "    <tr style=\"text-align: right;\">\n",
       "      <th></th>\n",
       "      <th>CRIM</th>\n",
       "      <th>ZN</th>\n",
       "      <th>INDUS</th>\n",
       "      <th>CHAS</th>\n",
       "      <th>NOX</th>\n",
       "      <th>RM</th>\n",
       "      <th>AGE</th>\n",
       "      <th>DIS</th>\n",
       "      <th>RAD</th>\n",
       "      <th>TAX</th>\n",
       "      <th>PTRATIO</th>\n",
       "      <th>B</th>\n",
       "      <th>LSTAT</th>\n",
       "    </tr>\n",
       "  </thead>\n",
       "  <tbody>\n",
       "    <tr>\n",
       "      <th>118</th>\n",
       "      <td>0.13058</td>\n",
       "      <td>0.0</td>\n",
       "      <td>10.01</td>\n",
       "      <td>0</td>\n",
       "      <td>0.5470</td>\n",
       "      <td>5.872</td>\n",
       "      <td>73.1</td>\n",
       "      <td>2.4775</td>\n",
       "      <td>6</td>\n",
       "      <td>432.0</td>\n",
       "      <td>17.8</td>\n",
       "      <td>338.63</td>\n",
       "      <td>15.37</td>\n",
       "    </tr>\n",
       "    <tr>\n",
       "      <th>310</th>\n",
       "      <td>2.63548</td>\n",
       "      <td>0.0</td>\n",
       "      <td>9.90</td>\n",
       "      <td>0</td>\n",
       "      <td>0.5440</td>\n",
       "      <td>4.973</td>\n",
       "      <td>37.8</td>\n",
       "      <td>2.5194</td>\n",
       "      <td>4</td>\n",
       "      <td>304.0</td>\n",
       "      <td>18.4</td>\n",
       "      <td>350.45</td>\n",
       "      <td>12.64</td>\n",
       "    </tr>\n",
       "    <tr>\n",
       "      <th>282</th>\n",
       "      <td>0.06129</td>\n",
       "      <td>20.0</td>\n",
       "      <td>3.33</td>\n",
       "      <td>1</td>\n",
       "      <td>0.4429</td>\n",
       "      <td>7.645</td>\n",
       "      <td>49.7</td>\n",
       "      <td>5.2119</td>\n",
       "      <td>5</td>\n",
       "      <td>216.0</td>\n",
       "      <td>14.9</td>\n",
       "      <td>377.07</td>\n",
       "      <td>3.01</td>\n",
       "    </tr>\n",
       "    <tr>\n",
       "      <th>448</th>\n",
       "      <td>9.32909</td>\n",
       "      <td>0.0</td>\n",
       "      <td>18.10</td>\n",
       "      <td>0</td>\n",
       "      <td>0.7130</td>\n",
       "      <td>6.185</td>\n",
       "      <td>98.7</td>\n",
       "      <td>2.2616</td>\n",
       "      <td>24</td>\n",
       "      <td>666.0</td>\n",
       "      <td>20.2</td>\n",
       "      <td>396.90</td>\n",
       "      <td>18.13</td>\n",
       "    </tr>\n",
       "    <tr>\n",
       "      <th>99</th>\n",
       "      <td>0.06860</td>\n",
       "      <td>0.0</td>\n",
       "      <td>2.89</td>\n",
       "      <td>0</td>\n",
       "      <td>0.4450</td>\n",
       "      <td>7.416</td>\n",
       "      <td>62.5</td>\n",
       "      <td>3.4952</td>\n",
       "      <td>2</td>\n",
       "      <td>276.0</td>\n",
       "      <td>18.0</td>\n",
       "      <td>396.90</td>\n",
       "      <td>6.19</td>\n",
       "    </tr>\n",
       "    <tr>\n",
       "      <th>...</th>\n",
       "      <td>...</td>\n",
       "      <td>...</td>\n",
       "      <td>...</td>\n",
       "      <td>...</td>\n",
       "      <td>...</td>\n",
       "      <td>...</td>\n",
       "      <td>...</td>\n",
       "      <td>...</td>\n",
       "      <td>...</td>\n",
       "      <td>...</td>\n",
       "      <td>...</td>\n",
       "      <td>...</td>\n",
       "      <td>...</td>\n",
       "    </tr>\n",
       "    <tr>\n",
       "      <th>102</th>\n",
       "      <td>0.22876</td>\n",
       "      <td>0.0</td>\n",
       "      <td>8.56</td>\n",
       "      <td>0</td>\n",
       "      <td>0.5200</td>\n",
       "      <td>6.405</td>\n",
       "      <td>85.4</td>\n",
       "      <td>2.7147</td>\n",
       "      <td>5</td>\n",
       "      <td>384.0</td>\n",
       "      <td>20.9</td>\n",
       "      <td>70.80</td>\n",
       "      <td>10.63</td>\n",
       "    </tr>\n",
       "    <tr>\n",
       "      <th>164</th>\n",
       "      <td>2.24236</td>\n",
       "      <td>0.0</td>\n",
       "      <td>19.58</td>\n",
       "      <td>0</td>\n",
       "      <td>0.6050</td>\n",
       "      <td>5.854</td>\n",
       "      <td>91.8</td>\n",
       "      <td>2.4220</td>\n",
       "      <td>5</td>\n",
       "      <td>403.0</td>\n",
       "      <td>14.7</td>\n",
       "      <td>395.11</td>\n",
       "      <td>11.64</td>\n",
       "    </tr>\n",
       "    <tr>\n",
       "      <th>466</th>\n",
       "      <td>3.77498</td>\n",
       "      <td>0.0</td>\n",
       "      <td>18.10</td>\n",
       "      <td>0</td>\n",
       "      <td>0.6550</td>\n",
       "      <td>5.952</td>\n",
       "      <td>84.7</td>\n",
       "      <td>2.8715</td>\n",
       "      <td>24</td>\n",
       "      <td>666.0</td>\n",
       "      <td>20.2</td>\n",
       "      <td>22.01</td>\n",
       "      <td>17.15</td>\n",
       "    </tr>\n",
       "    <tr>\n",
       "      <th>189</th>\n",
       "      <td>0.08370</td>\n",
       "      <td>45.0</td>\n",
       "      <td>3.44</td>\n",
       "      <td>0</td>\n",
       "      <td>0.4370</td>\n",
       "      <td>7.185</td>\n",
       "      <td>38.9</td>\n",
       "      <td>4.5667</td>\n",
       "      <td>5</td>\n",
       "      <td>398.0</td>\n",
       "      <td>15.2</td>\n",
       "      <td>396.90</td>\n",
       "      <td>5.39</td>\n",
       "    </tr>\n",
       "    <tr>\n",
       "      <th>478</th>\n",
       "      <td>10.23300</td>\n",
       "      <td>0.0</td>\n",
       "      <td>18.10</td>\n",
       "      <td>0</td>\n",
       "      <td>0.6140</td>\n",
       "      <td>6.185</td>\n",
       "      <td>96.7</td>\n",
       "      <td>2.1705</td>\n",
       "      <td>24</td>\n",
       "      <td>666.0</td>\n",
       "      <td>20.2</td>\n",
       "      <td>379.70</td>\n",
       "      <td>18.03</td>\n",
       "    </tr>\n",
       "  </tbody>\n",
       "</table>\n",
       "<p>337 rows × 13 columns</p>\n",
       "</div>"
      ],
      "text/plain": [
       "         CRIM    ZN  INDUS  CHAS     NOX     RM   AGE     DIS  RAD    TAX  \\\n",
       "118   0.13058   0.0  10.01     0  0.5470  5.872  73.1  2.4775    6  432.0   \n",
       "310   2.63548   0.0   9.90     0  0.5440  4.973  37.8  2.5194    4  304.0   \n",
       "282   0.06129  20.0   3.33     1  0.4429  7.645  49.7  5.2119    5  216.0   \n",
       "448   9.32909   0.0  18.10     0  0.7130  6.185  98.7  2.2616   24  666.0   \n",
       "99    0.06860   0.0   2.89     0  0.4450  7.416  62.5  3.4952    2  276.0   \n",
       "..        ...   ...    ...   ...     ...    ...   ...     ...  ...    ...   \n",
       "102   0.22876   0.0   8.56     0  0.5200  6.405  85.4  2.7147    5  384.0   \n",
       "164   2.24236   0.0  19.58     0  0.6050  5.854  91.8  2.4220    5  403.0   \n",
       "466   3.77498   0.0  18.10     0  0.6550  5.952  84.7  2.8715   24  666.0   \n",
       "189   0.08370  45.0   3.44     0  0.4370  7.185  38.9  4.5667    5  398.0   \n",
       "478  10.23300   0.0  18.10     0  0.6140  6.185  96.7  2.1705   24  666.0   \n",
       "\n",
       "     PTRATIO       B  LSTAT  \n",
       "118     17.8  338.63  15.37  \n",
       "310     18.4  350.45  12.64  \n",
       "282     14.9  377.07   3.01  \n",
       "448     20.2  396.90  18.13  \n",
       "99      18.0  396.90   6.19  \n",
       "..       ...     ...    ...  \n",
       "102     20.9   70.80  10.63  \n",
       "164     14.7  395.11  11.64  \n",
       "466     20.2   22.01  17.15  \n",
       "189     15.2  396.90   5.39  \n",
       "478     20.2  379.70  18.03  \n",
       "\n",
       "[337 rows x 13 columns]"
      ]
     },
     "execution_count": 18,
     "metadata": {},
     "output_type": "execute_result"
    }
   ],
   "source": [
    "x_train"
   ]
  },
  {
   "cell_type": "code",
   "execution_count": 19,
   "id": "1a25fbaa",
   "metadata": {
    "execution": {
     "iopub.execute_input": "2022-09-27T09:29:32.797222Z",
     "iopub.status.busy": "2022-09-27T09:29:32.796797Z",
     "iopub.status.idle": "2022-09-27T09:29:32.803099Z",
     "shell.execute_reply": "2022-09-27T09:29:32.801681Z"
    },
    "papermill": {
     "duration": 0.021927,
     "end_time": "2022-09-27T09:29:32.805167",
     "exception": false,
     "start_time": "2022-09-27T09:29:32.783240",
     "status": "completed"
    },
    "tags": []
   },
   "outputs": [
    {
     "name": "stdout",
     "output_type": "stream",
     "text": [
      "(337, 13)\n",
      "(337,)\n"
     ]
    }
   ],
   "source": [
    "print(x_train.shape)\n",
    "print(y_train.shape)"
   ]
  },
  {
   "cell_type": "code",
   "execution_count": 20,
   "id": "bc2dfacf",
   "metadata": {
    "execution": {
     "iopub.execute_input": "2022-09-27T09:29:32.831833Z",
     "iopub.status.busy": "2022-09-27T09:29:32.831395Z",
     "iopub.status.idle": "2022-09-27T09:29:32.838033Z",
     "shell.execute_reply": "2022-09-27T09:29:32.836554Z"
    },
    "papermill": {
     "duration": 0.022988,
     "end_time": "2022-09-27T09:29:32.840738",
     "exception": false,
     "start_time": "2022-09-27T09:29:32.817750",
     "status": "completed"
    },
    "tags": []
   },
   "outputs": [
    {
     "name": "stdout",
     "output_type": "stream",
     "text": [
      "(169, 13) (169,)\n"
     ]
    }
   ],
   "source": [
    "print(x_test.shape,y_test.shape)"
   ]
  },
  {
   "cell_type": "code",
   "execution_count": 21,
   "id": "54d30f7d",
   "metadata": {
    "execution": {
     "iopub.execute_input": "2022-09-27T09:29:32.868722Z",
     "iopub.status.busy": "2022-09-27T09:29:32.868215Z",
     "iopub.status.idle": "2022-09-27T09:29:32.873362Z",
     "shell.execute_reply": "2022-09-27T09:29:32.872174Z"
    },
    "papermill": {
     "duration": 0.022408,
     "end_time": "2022-09-27T09:29:32.876020",
     "exception": false,
     "start_time": "2022-09-27T09:29:32.853612",
     "status": "completed"
    },
    "tags": []
   },
   "outputs": [],
   "source": [
    "from sklearn.preprocessing import StandardScaler"
   ]
  },
  {
   "cell_type": "code",
   "execution_count": 22,
   "id": "42bf64cb",
   "metadata": {
    "execution": {
     "iopub.execute_input": "2022-09-27T09:29:32.903384Z",
     "iopub.status.busy": "2022-09-27T09:29:32.902957Z",
     "iopub.status.idle": "2022-09-27T09:29:32.908611Z",
     "shell.execute_reply": "2022-09-27T09:29:32.907068Z"
    },
    "papermill": {
     "duration": 0.022301,
     "end_time": "2022-09-27T09:29:32.911074",
     "exception": false,
     "start_time": "2022-09-27T09:29:32.888773",
     "status": "completed"
    },
    "tags": []
   },
   "outputs": [],
   "source": [
    "k=StandardScaler()"
   ]
  },
  {
   "cell_type": "code",
   "execution_count": 23,
   "id": "c5cb5c7f",
   "metadata": {
    "execution": {
     "iopub.execute_input": "2022-09-27T09:29:32.937775Z",
     "iopub.status.busy": "2022-09-27T09:29:32.937313Z",
     "iopub.status.idle": "2022-09-27T09:29:32.942344Z",
     "shell.execute_reply": "2022-09-27T09:29:32.941191Z"
    },
    "papermill": {
     "duration": 0.021375,
     "end_time": "2022-09-27T09:29:32.944929",
     "exception": false,
     "start_time": "2022-09-27T09:29:32.923554",
     "status": "completed"
    },
    "tags": []
   },
   "outputs": [],
   "source": [
    "#fit only the x_train and test them both on the basis of the x_train"
   ]
  },
  {
   "cell_type": "code",
   "execution_count": 24,
   "id": "c4f25c31",
   "metadata": {
    "execution": {
     "iopub.execute_input": "2022-09-27T09:29:32.972217Z",
     "iopub.status.busy": "2022-09-27T09:29:32.971770Z",
     "iopub.status.idle": "2022-09-27T09:29:32.983460Z",
     "shell.execute_reply": "2022-09-27T09:29:32.982364Z"
    },
    "papermill": {
     "duration": 0.02852,
     "end_time": "2022-09-27T09:29:32.986065",
     "exception": false,
     "start_time": "2022-09-27T09:29:32.957545",
     "status": "completed"
    },
    "tags": []
   },
   "outputs": [
    {
     "data": {
      "text/plain": [
       "StandardScaler()"
      ]
     },
     "execution_count": 24,
     "metadata": {},
     "output_type": "execute_result"
    }
   ],
   "source": [
    "k.fit(x_train)"
   ]
  },
  {
   "cell_type": "code",
   "execution_count": 25,
   "id": "897e86f6",
   "metadata": {
    "execution": {
     "iopub.execute_input": "2022-09-27T09:29:33.013608Z",
     "iopub.status.busy": "2022-09-27T09:29:33.012727Z",
     "iopub.status.idle": "2022-09-27T09:29:33.022564Z",
     "shell.execute_reply": "2022-09-27T09:29:33.021045Z"
    },
    "papermill": {
     "duration": 0.02654,
     "end_time": "2022-09-27T09:29:33.025326",
     "exception": false,
     "start_time": "2022-09-27T09:29:32.998786",
     "status": "completed"
    },
    "tags": []
   },
   "outputs": [],
   "source": [
    "x_train=k.transform(x_train)\n",
    "x_test=k.transform(x_test)"
   ]
  },
  {
   "cell_type": "code",
   "execution_count": 26,
   "id": "287f8fa9",
   "metadata": {
    "execution": {
     "iopub.execute_input": "2022-09-27T09:29:33.053115Z",
     "iopub.status.busy": "2022-09-27T09:29:33.052322Z",
     "iopub.status.idle": "2022-09-27T09:29:33.057045Z",
     "shell.execute_reply": "2022-09-27T09:29:33.056257Z"
    },
    "papermill": {
     "duration": 0.021043,
     "end_time": "2022-09-27T09:29:33.059328",
     "exception": false,
     "start_time": "2022-09-27T09:29:33.038285",
     "status": "completed"
    },
    "tags": []
   },
   "outputs": [],
   "source": [
    "k1=StandardScaler()"
   ]
  },
  {
   "cell_type": "code",
   "execution_count": 27,
   "id": "639f00f6",
   "metadata": {
    "execution": {
     "iopub.execute_input": "2022-09-27T09:29:33.086998Z",
     "iopub.status.busy": "2022-09-27T09:29:33.085810Z",
     "iopub.status.idle": "2022-09-27T09:29:33.091831Z",
     "shell.execute_reply": "2022-09-27T09:29:33.090673Z"
    },
    "papermill": {
     "duration": 0.022261,
     "end_time": "2022-09-27T09:29:33.094317",
     "exception": false,
     "start_time": "2022-09-27T09:29:33.072056",
     "status": "completed"
    },
    "tags": []
   },
   "outputs": [],
   "source": [
    "y=np.array(y)\n",
    "y=pd.DataFrame(y)"
   ]
  },
  {
   "cell_type": "code",
   "execution_count": 28,
   "id": "b46dc8f8",
   "metadata": {
    "execution": {
     "iopub.execute_input": "2022-09-27T09:29:33.121405Z",
     "iopub.status.busy": "2022-09-27T09:29:33.120983Z",
     "iopub.status.idle": "2022-09-27T09:29:33.127099Z",
     "shell.execute_reply": "2022-09-27T09:29:33.125958Z"
    },
    "papermill": {
     "duration": 0.022801,
     "end_time": "2022-09-27T09:29:33.129742",
     "exception": false,
     "start_time": "2022-09-27T09:29:33.106941",
     "status": "completed"
    },
    "tags": []
   },
   "outputs": [],
   "source": [
    "y_train=pd.DataFrame(y_train)\n",
    "y_test=pd.DataFrame(y_test)"
   ]
  },
  {
   "cell_type": "code",
   "execution_count": 29,
   "id": "86b657f9",
   "metadata": {
    "execution": {
     "iopub.execute_input": "2022-09-27T09:29:33.157360Z",
     "iopub.status.busy": "2022-09-27T09:29:33.156578Z",
     "iopub.status.idle": "2022-09-27T09:29:33.165772Z",
     "shell.execute_reply": "2022-09-27T09:29:33.164731Z"
    },
    "papermill": {
     "duration": 0.025708,
     "end_time": "2022-09-27T09:29:33.168184",
     "exception": false,
     "start_time": "2022-09-27T09:29:33.142476",
     "status": "completed"
    },
    "tags": []
   },
   "outputs": [
    {
     "data": {
      "text/plain": [
       "StandardScaler()"
      ]
     },
     "execution_count": 29,
     "metadata": {},
     "output_type": "execute_result"
    }
   ],
   "source": [
    "k1.fit(y_train)"
   ]
  },
  {
   "cell_type": "code",
   "execution_count": 30,
   "id": "31513717",
   "metadata": {
    "execution": {
     "iopub.execute_input": "2022-09-27T09:29:33.195397Z",
     "iopub.status.busy": "2022-09-27T09:29:33.194964Z",
     "iopub.status.idle": "2022-09-27T09:29:33.204371Z",
     "shell.execute_reply": "2022-09-27T09:29:33.202943Z"
    },
    "papermill": {
     "duration": 0.025952,
     "end_time": "2022-09-27T09:29:33.206931",
     "exception": false,
     "start_time": "2022-09-27T09:29:33.180979",
     "status": "completed"
    },
    "tags": []
   },
   "outputs": [],
   "source": [
    "y_train=k1.transform(y_train)\n",
    "y_test=k1.transform(y_test)"
   ]
  },
  {
   "cell_type": "code",
   "execution_count": 31,
   "id": "aa1f6d90",
   "metadata": {
    "execution": {
     "iopub.execute_input": "2022-09-27T09:29:33.234835Z",
     "iopub.status.busy": "2022-09-27T09:29:33.234236Z",
     "iopub.status.idle": "2022-09-27T09:29:33.240656Z",
     "shell.execute_reply": "2022-09-27T09:29:33.239547Z"
    },
    "papermill": {
     "duration": 0.023434,
     "end_time": "2022-09-27T09:29:33.243044",
     "exception": false,
     "start_time": "2022-09-27T09:29:33.219610",
     "status": "completed"
    },
    "tags": []
   },
   "outputs": [
    {
     "data": {
      "text/plain": [
       "array([[-0.37897574, -0.48928992, -0.13599334, ..., -0.25778346,\n",
       "        -0.25935161,  0.40820216],\n",
       "       [-0.08123815, -0.48928992, -0.15207447, ...,  0.02351074,\n",
       "        -0.12214525,  0.02288033],\n",
       "       [-0.38721169,  0.34286099, -1.11255646, ..., -1.61737209,\n",
       "         0.18685924, -1.33633186],\n",
       "       ...,\n",
       "       [ 0.05420517, -0.48928992,  1.04670061, ...,  0.86739334,\n",
       "        -3.93467102,  0.65943765],\n",
       "       [-0.38454799,  1.38304962, -1.09647533, ..., -1.47672499,\n",
       "         0.41704553, -1.00041026],\n",
       "       [ 0.82181875, -0.48928992,  1.04670061, ...,  0.86739334,\n",
       "         0.21738823,  0.78364395]])"
      ]
     },
     "execution_count": 31,
     "metadata": {},
     "output_type": "execute_result"
    }
   ],
   "source": [
    "x_train"
   ]
  },
  {
   "cell_type": "code",
   "execution_count": 32,
   "id": "50f4a3f8",
   "metadata": {
    "execution": {
     "iopub.execute_input": "2022-09-27T09:29:33.270610Z",
     "iopub.status.busy": "2022-09-27T09:29:33.270188Z",
     "iopub.status.idle": "2022-09-27T09:29:33.277230Z",
     "shell.execute_reply": "2022-09-27T09:29:33.276010Z"
    },
    "papermill": {
     "duration": 0.023684,
     "end_time": "2022-09-27T09:29:33.279759",
     "exception": false,
     "start_time": "2022-09-27T09:29:33.256075",
     "status": "completed"
    },
    "tags": []
   },
   "outputs": [
    {
     "data": {
      "text/plain": [
       "(337, 1)"
      ]
     },
     "execution_count": 32,
     "metadata": {},
     "output_type": "execute_result"
    }
   ],
   "source": [
    "y_train.shape"
   ]
  },
  {
   "cell_type": "code",
   "execution_count": 33,
   "id": "090257df",
   "metadata": {
    "execution": {
     "iopub.execute_input": "2022-09-27T09:29:33.307564Z",
     "iopub.status.busy": "2022-09-27T09:29:33.307181Z",
     "iopub.status.idle": "2022-09-27T09:29:33.314439Z",
     "shell.execute_reply": "2022-09-27T09:29:33.313210Z"
    },
    "papermill": {
     "duration": 0.024039,
     "end_time": "2022-09-27T09:29:33.316989",
     "exception": false,
     "start_time": "2022-09-27T09:29:33.292950",
     "status": "completed"
    },
    "tags": []
   },
   "outputs": [
    {
     "data": {
      "text/plain": [
       "(337, 13)"
      ]
     },
     "execution_count": 33,
     "metadata": {},
     "output_type": "execute_result"
    }
   ],
   "source": [
    "x_train.shape"
   ]
  },
  {
   "cell_type": "code",
   "execution_count": 34,
   "id": "6e77b133",
   "metadata": {
    "execution": {
     "iopub.execute_input": "2022-09-27T09:29:33.346199Z",
     "iopub.status.busy": "2022-09-27T09:29:33.345783Z",
     "iopub.status.idle": "2022-09-27T09:29:33.353167Z",
     "shell.execute_reply": "2022-09-27T09:29:33.351776Z"
    },
    "papermill": {
     "duration": 0.025096,
     "end_time": "2022-09-27T09:29:33.356033",
     "exception": false,
     "start_time": "2022-09-27T09:29:33.330937",
     "status": "completed"
    },
    "tags": []
   },
   "outputs": [],
   "source": [
    "def baseline_model():\n",
    "    model=Sequential()\n",
    "    model.add(Dense(16,input_dim=13,activation=\"relu\"))\n",
    "    model.add(Dense(16,activation=\"relu\"))\n",
    "    model.add(Dense(8,activation=\"relu\"))\n",
    "    model.add(Dense(1))\n",
    "    opt=Adam(learning_rate=0.001)\n",
    "    model.compile(opt,loss=\"mean_squared_error\")\n",
    "    return model"
   ]
  },
  {
   "cell_type": "code",
   "execution_count": 35,
   "id": "0afe3cb3",
   "metadata": {
    "execution": {
     "iopub.execute_input": "2022-09-27T09:29:33.384490Z",
     "iopub.status.busy": "2022-09-27T09:29:33.384053Z",
     "iopub.status.idle": "2022-09-27T09:29:33.532671Z",
     "shell.execute_reply": "2022-09-27T09:29:33.531424Z"
    },
    "papermill": {
     "duration": 0.166224,
     "end_time": "2022-09-27T09:29:33.535538",
     "exception": false,
     "start_time": "2022-09-27T09:29:33.369314",
     "status": "completed"
    },
    "tags": []
   },
   "outputs": [
    {
     "name": "stderr",
     "output_type": "stream",
     "text": [
      "2022-09-27 09:29:33.425678: I tensorflow/core/common_runtime/process_util.cc:146] Creating new thread pool with default inter op setting: 2. Tune using inter_op_parallelism_threads for best performance.\n"
     ]
    }
   ],
   "source": [
    "model=baseline_model()"
   ]
  },
  {
   "cell_type": "code",
   "execution_count": 36,
   "id": "f9113fdf",
   "metadata": {
    "execution": {
     "iopub.execute_input": "2022-09-27T09:29:33.564188Z",
     "iopub.status.busy": "2022-09-27T09:29:33.563764Z",
     "iopub.status.idle": "2022-09-27T09:29:44.455006Z",
     "shell.execute_reply": "2022-09-27T09:29:44.453877Z"
    },
    "papermill": {
     "duration": 10.908958,
     "end_time": "2022-09-27T09:29:44.458007",
     "exception": false,
     "start_time": "2022-09-27T09:29:33.549049",
     "status": "completed"
    },
    "tags": []
   },
   "outputs": [
    {
     "name": "stderr",
     "output_type": "stream",
     "text": [
      "2022-09-27 09:29:33.651583: I tensorflow/compiler/mlir/mlir_graph_optimization_pass.cc:185] None of the MLIR Optimization Passes are enabled (registered 2)\n"
     ]
    },
    {
     "name": "stdout",
     "output_type": "stream",
     "text": [
      "Epoch 1/100\n",
      "22/22 [==============================] - 1s 12ms/step - loss: 1.1739 - val_loss: 0.9974\n",
      "Epoch 2/100\n",
      "22/22 [==============================] - 0s 4ms/step - loss: 0.9840 - val_loss: 0.9097\n",
      "Epoch 3/100\n",
      "22/22 [==============================] - 0s 4ms/step - loss: 0.8998 - val_loss: 0.8295\n",
      "Epoch 4/100\n",
      "22/22 [==============================] - 0s 4ms/step - loss: 0.8224 - val_loss: 0.7309\n",
      "Epoch 5/100\n",
      "22/22 [==============================] - 0s 4ms/step - loss: 0.7123 - val_loss: 0.6017\n",
      "Epoch 6/100\n",
      "22/22 [==============================] - 0s 4ms/step - loss: 0.5907 - val_loss: 0.4833\n",
      "Epoch 7/100\n",
      "22/22 [==============================] - 0s 4ms/step - loss: 0.4881 - val_loss: 0.4088\n",
      "Epoch 8/100\n",
      "22/22 [==============================] - 0s 4ms/step - loss: 0.4183 - val_loss: 0.3566\n",
      "Epoch 9/100\n",
      "22/22 [==============================] - 0s 4ms/step - loss: 0.3617 - val_loss: 0.3156\n",
      "Epoch 10/100\n",
      "22/22 [==============================] - 0s 4ms/step - loss: 0.3189 - val_loss: 0.2820\n",
      "Epoch 11/100\n",
      "22/22 [==============================] - 0s 4ms/step - loss: 0.2858 - val_loss: 0.2635\n",
      "Epoch 12/100\n",
      "22/22 [==============================] - 0s 4ms/step - loss: 0.2658 - val_loss: 0.2450\n",
      "Epoch 13/100\n",
      "22/22 [==============================] - 0s 4ms/step - loss: 0.2466 - val_loss: 0.2357\n",
      "Epoch 14/100\n",
      "22/22 [==============================] - 0s 4ms/step - loss: 0.2395 - val_loss: 0.2276\n",
      "Epoch 15/100\n",
      "22/22 [==============================] - 0s 4ms/step - loss: 0.2251 - val_loss: 0.2173\n",
      "Epoch 16/100\n",
      "22/22 [==============================] - 0s 5ms/step - loss: 0.2157 - val_loss: 0.2147\n",
      "Epoch 17/100\n",
      "22/22 [==============================] - 0s 5ms/step - loss: 0.2078 - val_loss: 0.2065\n",
      "Epoch 18/100\n",
      "22/22 [==============================] - 0s 4ms/step - loss: 0.2008 - val_loss: 0.2001\n",
      "Epoch 19/100\n",
      "22/22 [==============================] - 0s 4ms/step - loss: 0.1996 - val_loss: 0.1969\n",
      "Epoch 20/100\n",
      "22/22 [==============================] - 0s 4ms/step - loss: 0.1893 - val_loss: 0.1929\n",
      "Epoch 21/100\n",
      "22/22 [==============================] - 0s 4ms/step - loss: 0.1789 - val_loss: 0.1850\n",
      "Epoch 22/100\n",
      "22/22 [==============================] - 0s 4ms/step - loss: 0.1747 - val_loss: 0.1821\n",
      "Epoch 23/100\n",
      "22/22 [==============================] - 0s 4ms/step - loss: 0.1706 - val_loss: 0.1752\n",
      "Epoch 24/100\n",
      "22/22 [==============================] - 0s 4ms/step - loss: 0.1666 - val_loss: 0.1741\n",
      "Epoch 25/100\n",
      "22/22 [==============================] - 0s 4ms/step - loss: 0.1623 - val_loss: 0.1729\n",
      "Epoch 26/100\n",
      "22/22 [==============================] - 0s 4ms/step - loss: 0.1589 - val_loss: 0.1728\n",
      "Epoch 27/100\n",
      "22/22 [==============================] - 0s 4ms/step - loss: 0.1565 - val_loss: 0.1713\n",
      "Epoch 28/100\n",
      "22/22 [==============================] - 0s 4ms/step - loss: 0.1529 - val_loss: 0.1682\n",
      "Epoch 29/100\n",
      "22/22 [==============================] - 0s 4ms/step - loss: 0.1507 - val_loss: 0.1655\n",
      "Epoch 30/100\n",
      "22/22 [==============================] - 0s 3ms/step - loss: 0.1480 - val_loss: 0.1621\n",
      "Epoch 31/100\n",
      "22/22 [==============================] - 0s 3ms/step - loss: 0.1463 - val_loss: 0.1610\n",
      "Epoch 32/100\n",
      "22/22 [==============================] - 0s 4ms/step - loss: 0.1463 - val_loss: 0.1616\n",
      "Epoch 33/100\n",
      "22/22 [==============================] - 0s 4ms/step - loss: 0.1407 - val_loss: 0.1604\n",
      "Epoch 34/100\n",
      "22/22 [==============================] - 0s 4ms/step - loss: 0.1390 - val_loss: 0.1578\n",
      "Epoch 35/100\n",
      "22/22 [==============================] - 0s 3ms/step - loss: 0.1373 - val_loss: 0.1560\n",
      "Epoch 36/100\n",
      "22/22 [==============================] - 0s 5ms/step - loss: 0.1433 - val_loss: 0.1529\n",
      "Epoch 37/100\n",
      "22/22 [==============================] - 0s 4ms/step - loss: 0.1343 - val_loss: 0.1503\n",
      "Epoch 38/100\n",
      "22/22 [==============================] - 0s 3ms/step - loss: 0.1383 - val_loss: 0.1612\n",
      "Epoch 39/100\n",
      "22/22 [==============================] - 0s 9ms/step - loss: 0.1361 - val_loss: 0.1528\n",
      "Epoch 40/100\n",
      "22/22 [==============================] - 0s 8ms/step - loss: 0.1292 - val_loss: 0.1486\n",
      "Epoch 41/100\n",
      "22/22 [==============================] - 0s 9ms/step - loss: 0.1255 - val_loss: 0.1493\n",
      "Epoch 42/100\n",
      "22/22 [==============================] - 0s 10ms/step - loss: 0.1231 - val_loss: 0.1452\n",
      "Epoch 43/100\n",
      "22/22 [==============================] - 0s 8ms/step - loss: 0.1240 - val_loss: 0.1480\n",
      "Epoch 44/100\n",
      "22/22 [==============================] - 0s 4ms/step - loss: 0.1194 - val_loss: 0.1472\n",
      "Epoch 45/100\n",
      "22/22 [==============================] - 0s 4ms/step - loss: 0.1175 - val_loss: 0.1453\n",
      "Epoch 46/100\n",
      "22/22 [==============================] - 0s 4ms/step - loss: 0.1165 - val_loss: 0.1445\n",
      "Epoch 47/100\n",
      "22/22 [==============================] - 0s 4ms/step - loss: 0.1149 - val_loss: 0.1432\n",
      "Epoch 48/100\n",
      "22/22 [==============================] - 0s 4ms/step - loss: 0.1141 - val_loss: 0.1457\n",
      "Epoch 49/100\n",
      "22/22 [==============================] - 0s 4ms/step - loss: 0.1144 - val_loss: 0.1454\n",
      "Epoch 50/100\n",
      "22/22 [==============================] - 0s 4ms/step - loss: 0.1115 - val_loss: 0.1434\n",
      "Epoch 51/100\n",
      "22/22 [==============================] - 0s 4ms/step - loss: 0.1087 - val_loss: 0.1441\n",
      "Epoch 52/100\n",
      "22/22 [==============================] - 0s 4ms/step - loss: 0.1115 - val_loss: 0.1448\n",
      "Epoch 53/100\n",
      "22/22 [==============================] - 0s 4ms/step - loss: 0.1074 - val_loss: 0.1434\n",
      "Epoch 54/100\n",
      "22/22 [==============================] - 0s 4ms/step - loss: 0.1106 - val_loss: 0.1358\n",
      "Epoch 55/100\n",
      "22/22 [==============================] - 0s 4ms/step - loss: 0.1048 - val_loss: 0.1347\n",
      "Epoch 56/100\n",
      "22/22 [==============================] - 0s 4ms/step - loss: 0.1017 - val_loss: 0.1368\n",
      "Epoch 57/100\n",
      "22/22 [==============================] - 0s 4ms/step - loss: 0.1098 - val_loss: 0.1319\n",
      "Epoch 58/100\n",
      "22/22 [==============================] - 0s 4ms/step - loss: 0.1011 - val_loss: 0.1326\n",
      "Epoch 59/100\n",
      "22/22 [==============================] - 0s 4ms/step - loss: 0.0995 - val_loss: 0.1315\n",
      "Epoch 60/100\n",
      "22/22 [==============================] - 0s 4ms/step - loss: 0.0964 - val_loss: 0.1306\n",
      "Epoch 61/100\n",
      "22/22 [==============================] - 0s 4ms/step - loss: 0.1020 - val_loss: 0.1350\n",
      "Epoch 62/100\n",
      "22/22 [==============================] - 0s 4ms/step - loss: 0.0957 - val_loss: 0.1285\n",
      "Epoch 63/100\n",
      "22/22 [==============================] - 0s 4ms/step - loss: 0.0926 - val_loss: 0.1283\n",
      "Epoch 64/100\n",
      "22/22 [==============================] - 0s 3ms/step - loss: 0.0912 - val_loss: 0.1239\n",
      "Epoch 65/100\n",
      "22/22 [==============================] - 0s 4ms/step - loss: 0.0925 - val_loss: 0.1270\n",
      "Epoch 66/100\n",
      "22/22 [==============================] - 0s 4ms/step - loss: 0.0891 - val_loss: 0.1229\n",
      "Epoch 67/100\n",
      "22/22 [==============================] - 0s 4ms/step - loss: 0.0896 - val_loss: 0.1279\n",
      "Epoch 68/100\n",
      "22/22 [==============================] - 0s 4ms/step - loss: 0.0860 - val_loss: 0.1268\n",
      "Epoch 69/100\n",
      "22/22 [==============================] - 0s 4ms/step - loss: 0.0952 - val_loss: 0.1336\n",
      "Epoch 70/100\n",
      "22/22 [==============================] - 0s 4ms/step - loss: 0.0868 - val_loss: 0.1232\n",
      "Epoch 71/100\n",
      "22/22 [==============================] - 0s 4ms/step - loss: 0.0837 - val_loss: 0.1260\n",
      "Epoch 72/100\n",
      "22/22 [==============================] - 0s 4ms/step - loss: 0.0827 - val_loss: 0.1244\n",
      "Epoch 73/100\n",
      "22/22 [==============================] - 0s 4ms/step - loss: 0.0834 - val_loss: 0.1236\n",
      "Epoch 74/100\n",
      "22/22 [==============================] - 0s 4ms/step - loss: 0.0805 - val_loss: 0.1245\n",
      "Epoch 75/100\n",
      "22/22 [==============================] - 0s 3ms/step - loss: 0.0803 - val_loss: 0.1220\n",
      "Epoch 76/100\n",
      "22/22 [==============================] - 0s 4ms/step - loss: 0.0782 - val_loss: 0.1238\n",
      "Epoch 77/100\n",
      "22/22 [==============================] - 0s 4ms/step - loss: 0.0776 - val_loss: 0.1201\n",
      "Epoch 78/100\n",
      "22/22 [==============================] - 0s 3ms/step - loss: 0.0763 - val_loss: 0.1208\n",
      "Epoch 79/100\n",
      "22/22 [==============================] - 0s 4ms/step - loss: 0.0755 - val_loss: 0.1206\n",
      "Epoch 80/100\n",
      "22/22 [==============================] - 0s 4ms/step - loss: 0.0753 - val_loss: 0.1234\n",
      "Epoch 81/100\n",
      "22/22 [==============================] - 0s 4ms/step - loss: 0.0745 - val_loss: 0.1191\n",
      "Epoch 82/100\n",
      "22/22 [==============================] - 0s 4ms/step - loss: 0.0718 - val_loss: 0.1167\n",
      "Epoch 83/100\n",
      "22/22 [==============================] - 0s 4ms/step - loss: 0.0709 - val_loss: 0.1166\n",
      "Epoch 84/100\n",
      "22/22 [==============================] - 0s 4ms/step - loss: 0.0709 - val_loss: 0.1176\n",
      "Epoch 85/100\n",
      "22/22 [==============================] - 0s 4ms/step - loss: 0.0705 - val_loss: 0.1155\n",
      "Epoch 86/100\n",
      "22/22 [==============================] - 0s 4ms/step - loss: 0.0686 - val_loss: 0.1153\n",
      "Epoch 87/100\n",
      "22/22 [==============================] - 0s 4ms/step - loss: 0.0677 - val_loss: 0.1153\n",
      "Epoch 88/100\n",
      "22/22 [==============================] - 0s 4ms/step - loss: 0.0674 - val_loss: 0.1135\n",
      "Epoch 89/100\n",
      "22/22 [==============================] - 0s 4ms/step - loss: 0.0662 - val_loss: 0.1137\n",
      "Epoch 90/100\n",
      "22/22 [==============================] - 0s 4ms/step - loss: 0.0652 - val_loss: 0.1143\n",
      "Epoch 91/100\n",
      "22/22 [==============================] - 0s 4ms/step - loss: 0.0650 - val_loss: 0.1127\n",
      "Epoch 92/100\n",
      "22/22 [==============================] - 0s 3ms/step - loss: 0.0640 - val_loss: 0.1138\n",
      "Epoch 93/100\n",
      "22/22 [==============================] - 0s 4ms/step - loss: 0.0635 - val_loss: 0.1138\n",
      "Epoch 94/100\n",
      "22/22 [==============================] - 0s 4ms/step - loss: 0.0637 - val_loss: 0.1174\n",
      "Epoch 95/100\n",
      "22/22 [==============================] - 0s 4ms/step - loss: 0.0614 - val_loss: 0.1106\n",
      "Epoch 96/100\n",
      "22/22 [==============================] - 0s 4ms/step - loss: 0.0613 - val_loss: 0.1139\n",
      "Epoch 97/100\n",
      "22/22 [==============================] - 0s 3ms/step - loss: 0.0616 - val_loss: 0.1102\n",
      "Epoch 98/100\n",
      "22/22 [==============================] - 0s 3ms/step - loss: 0.0625 - val_loss: 0.1143\n",
      "Epoch 99/100\n",
      "22/22 [==============================] - 0s 4ms/step - loss: 0.0629 - val_loss: 0.1043\n",
      "Epoch 100/100\n",
      "22/22 [==============================] - 0s 4ms/step - loss: 0.0623 - val_loss: 0.1067\n"
     ]
    }
   ],
   "source": [
    "hist=model.fit(x_train,y_train,verbose=1,epochs=100,batch_size=16,validation_data=(x_test,y_test))"
   ]
  },
  {
   "cell_type": "code",
   "execution_count": 37,
   "id": "b4fbe43d",
   "metadata": {
    "execution": {
     "iopub.execute_input": "2022-09-27T09:29:44.512521Z",
     "iopub.status.busy": "2022-09-27T09:29:44.511331Z",
     "iopub.status.idle": "2022-09-27T09:29:44.516712Z",
     "shell.execute_reply": "2022-09-27T09:29:44.515937Z"
    },
    "papermill": {
     "duration": 0.034834,
     "end_time": "2022-09-27T09:29:44.518941",
     "exception": false,
     "start_time": "2022-09-27T09:29:44.484107",
     "status": "completed"
    },
    "tags": []
   },
   "outputs": [],
   "source": [
    "from sklearn.metrics import r2_score"
   ]
  },
  {
   "cell_type": "code",
   "execution_count": 38,
   "id": "41dac498",
   "metadata": {
    "execution": {
     "iopub.execute_input": "2022-09-27T09:29:44.573829Z",
     "iopub.status.busy": "2022-09-27T09:29:44.572285Z",
     "iopub.status.idle": "2022-09-27T09:29:44.796535Z",
     "shell.execute_reply": "2022-09-27T09:29:44.795219Z"
    },
    "papermill": {
     "duration": 0.254946,
     "end_time": "2022-09-27T09:29:44.799350",
     "exception": false,
     "start_time": "2022-09-27T09:29:44.544404",
     "status": "completed"
    },
    "tags": []
   },
   "outputs": [],
   "source": [
    "yp_train=model.predict(x_train)\n",
    "yp_test=model.predict(x_test)"
   ]
  },
  {
   "cell_type": "code",
   "execution_count": 39,
   "id": "6ab9f8aa",
   "metadata": {
    "execution": {
     "iopub.execute_input": "2022-09-27T09:29:44.852246Z",
     "iopub.status.busy": "2022-09-27T09:29:44.851841Z",
     "iopub.status.idle": "2022-09-27T09:29:44.858510Z",
     "shell.execute_reply": "2022-09-27T09:29:44.857712Z"
    },
    "papermill": {
     "duration": 0.035674,
     "end_time": "2022-09-27T09:29:44.860628",
     "exception": false,
     "start_time": "2022-09-27T09:29:44.824954",
     "status": "completed"
    },
    "tags": []
   },
   "outputs": [
    {
     "data": {
      "text/plain": [
       "0.9429768471248136"
      ]
     },
     "execution_count": 39,
     "metadata": {},
     "output_type": "execute_result"
    }
   ],
   "source": [
    "r2_score(y_train,yp_train)"
   ]
  },
  {
   "cell_type": "code",
   "execution_count": 40,
   "id": "fcf0957c",
   "metadata": {
    "execution": {
     "iopub.execute_input": "2022-09-27T09:29:44.914562Z",
     "iopub.status.busy": "2022-09-27T09:29:44.913316Z",
     "iopub.status.idle": "2022-09-27T09:29:44.920743Z",
     "shell.execute_reply": "2022-09-27T09:29:44.919657Z"
    },
    "papermill": {
     "duration": 0.0367,
     "end_time": "2022-09-27T09:29:44.922884",
     "exception": false,
     "start_time": "2022-09-27T09:29:44.886184",
     "status": "completed"
    },
    "tags": []
   },
   "outputs": [
    {
     "data": {
      "text/plain": [
       "0.8957457336235888"
      ]
     },
     "execution_count": 40,
     "metadata": {},
     "output_type": "execute_result"
    }
   ],
   "source": [
    "r2_score(y_test,yp_test)"
   ]
  },
  {
   "cell_type": "code",
   "execution_count": 41,
   "id": "9144646b",
   "metadata": {
    "execution": {
     "iopub.execute_input": "2022-09-27T09:29:44.980143Z",
     "iopub.status.busy": "2022-09-27T09:29:44.978925Z",
     "iopub.status.idle": "2022-09-27T09:29:44.983702Z",
     "shell.execute_reply": "2022-09-27T09:29:44.982881Z"
    },
    "papermill": {
     "duration": 0.03612,
     "end_time": "2022-09-27T09:29:44.985901",
     "exception": false,
     "start_time": "2022-09-27T09:29:44.949781",
     "status": "completed"
    },
    "tags": []
   },
   "outputs": [],
   "source": [
    "import matplotlib.pyplot as plt"
   ]
  },
  {
   "cell_type": "code",
   "execution_count": 42,
   "id": "d9c1d551",
   "metadata": {
    "execution": {
     "iopub.execute_input": "2022-09-27T09:29:45.039915Z",
     "iopub.status.busy": "2022-09-27T09:29:45.039259Z",
     "iopub.status.idle": "2022-09-27T09:29:45.049022Z",
     "shell.execute_reply": "2022-09-27T09:29:45.047063Z"
    },
    "papermill": {
     "duration": 0.039265,
     "end_time": "2022-09-27T09:29:45.051448",
     "exception": false,
     "start_time": "2022-09-27T09:29:45.012183",
     "status": "completed"
    },
    "tags": []
   },
   "outputs": [
    {
     "data": {
      "text/plain": [
       "[1.1739394664764404,\n",
       " 0.9839947819709778,\n",
       " 0.8998247385025024,\n",
       " 0.822371780872345,\n",
       " 0.7122770547866821,\n",
       " 0.5906826257705688,\n",
       " 0.48809027671813965,\n",
       " 0.4182698428630829,\n",
       " 0.3617027699947357,\n",
       " 0.31886374950408936,\n",
       " 0.2857808768749237,\n",
       " 0.2657815217971802,\n",
       " 0.246648371219635,\n",
       " 0.2395453006029129,\n",
       " 0.22509709000587463,\n",
       " 0.21566401422023773,\n",
       " 0.2077556997537613,\n",
       " 0.20081791281700134,\n",
       " 0.19961883127689362,\n",
       " 0.18934302031993866,\n",
       " 0.17885471880435944,\n",
       " 0.17472876608371735,\n",
       " 0.17055194079875946,\n",
       " 0.1666141301393509,\n",
       " 0.1622590720653534,\n",
       " 0.15894228219985962,\n",
       " 0.1564675122499466,\n",
       " 0.1528579741716385,\n",
       " 0.15068094432353973,\n",
       " 0.14799855649471283,\n",
       " 0.14629417657852173,\n",
       " 0.1463271528482437,\n",
       " 0.1407444328069687,\n",
       " 0.13899925351142883,\n",
       " 0.1372915804386139,\n",
       " 0.14330701529979706,\n",
       " 0.1342993825674057,\n",
       " 0.1383049041032791,\n",
       " 0.13611161708831787,\n",
       " 0.12919588387012482,\n",
       " 0.12550045549869537,\n",
       " 0.12313149124383926,\n",
       " 0.12403549253940582,\n",
       " 0.11941991001367569,\n",
       " 0.11747591197490692,\n",
       " 0.11652117222547531,\n",
       " 0.1148877888917923,\n",
       " 0.11413919180631638,\n",
       " 0.11439920216798782,\n",
       " 0.1114501804113388,\n",
       " 0.1086982935667038,\n",
       " 0.11145135015249252,\n",
       " 0.10740990191698074,\n",
       " 0.11055142432451248,\n",
       " 0.10484346747398376,\n",
       " 0.10168862342834473,\n",
       " 0.10975082218647003,\n",
       " 0.10108568519353867,\n",
       " 0.09946572780609131,\n",
       " 0.0964333638548851,\n",
       " 0.10203717648983002,\n",
       " 0.09573917835950851,\n",
       " 0.09255953133106232,\n",
       " 0.09123692661523819,\n",
       " 0.09248853474855423,\n",
       " 0.08907566219568253,\n",
       " 0.08957734704017639,\n",
       " 0.08598107844591141,\n",
       " 0.09515215456485748,\n",
       " 0.08678343147039413,\n",
       " 0.0837412104010582,\n",
       " 0.08266917616128922,\n",
       " 0.08342047035694122,\n",
       " 0.08045318722724915,\n",
       " 0.0802706629037857,\n",
       " 0.07819871604442596,\n",
       " 0.07756001502275467,\n",
       " 0.07632424682378769,\n",
       " 0.07552850991487503,\n",
       " 0.07526078075170517,\n",
       " 0.07450389862060547,\n",
       " 0.07180609554052353,\n",
       " 0.07087068259716034,\n",
       " 0.07091771811246872,\n",
       " 0.07053263485431671,\n",
       " 0.0686015710234642,\n",
       " 0.06767634302377701,\n",
       " 0.06743676960468292,\n",
       " 0.06621833145618439,\n",
       " 0.06522533297538757,\n",
       " 0.06502369046211243,\n",
       " 0.06398838758468628,\n",
       " 0.06349583715200424,\n",
       " 0.06371583789587021,\n",
       " 0.06138446554541588,\n",
       " 0.06128980591893196,\n",
       " 0.06160185858607292,\n",
       " 0.06248905882239342,\n",
       " 0.06288132071495056,\n",
       " 0.06232234090566635]"
      ]
     },
     "execution_count": 42,
     "metadata": {},
     "output_type": "execute_result"
    }
   ],
   "source": [
    "hist.history[\"loss\"]   #this show the loss in when the epochs are running"
   ]
  },
  {
   "cell_type": "code",
   "execution_count": 43,
   "id": "6ee6b651",
   "metadata": {
    "execution": {
     "iopub.execute_input": "2022-09-27T09:29:45.105600Z",
     "iopub.status.busy": "2022-09-27T09:29:45.105181Z",
     "iopub.status.idle": "2022-09-27T09:29:45.112098Z",
     "shell.execute_reply": "2022-09-27T09:29:45.111227Z"
    },
    "papermill": {
     "duration": 0.036281,
     "end_time": "2022-09-27T09:29:45.114125",
     "exception": false,
     "start_time": "2022-09-27T09:29:45.077844",
     "status": "completed"
    },
    "tags": []
   },
   "outputs": [
    {
     "data": {
      "text/plain": [
       "[0.9973819255828857,\n",
       " 0.9097098708152771,\n",
       " 0.8295258283615112,\n",
       " 0.7309434413909912,\n",
       " 0.6016789674758911,\n",
       " 0.48326224088668823,\n",
       " 0.40880340337753296,\n",
       " 0.35659533739089966,\n",
       " 0.31562402844429016,\n",
       " 0.2819744646549225,\n",
       " 0.2635054588317871,\n",
       " 0.24496783316135406,\n",
       " 0.23569445312023163,\n",
       " 0.2276117503643036,\n",
       " 0.2172980159521103,\n",
       " 0.21465973556041718,\n",
       " 0.20648881793022156,\n",
       " 0.2000749409198761,\n",
       " 0.1968870908021927,\n",
       " 0.19290819764137268,\n",
       " 0.18504813313484192,\n",
       " 0.18210136890411377,\n",
       " 0.17522616684436798,\n",
       " 0.1741182506084442,\n",
       " 0.17287199199199677,\n",
       " 0.17276960611343384,\n",
       " 0.17131398618221283,\n",
       " 0.16824309527873993,\n",
       " 0.1654975414276123,\n",
       " 0.16205330193042755,\n",
       " 0.16100992262363434,\n",
       " 0.16162508726119995,\n",
       " 0.16038045287132263,\n",
       " 0.15783219039440155,\n",
       " 0.15602873265743256,\n",
       " 0.15291425585746765,\n",
       " 0.15029367804527283,\n",
       " 0.16124023497104645,\n",
       " 0.15277089178562164,\n",
       " 0.1486489623785019,\n",
       " 0.149319589138031,\n",
       " 0.14516445994377136,\n",
       " 0.14800694584846497,\n",
       " 0.14722837507724762,\n",
       " 0.14534232020378113,\n",
       " 0.144529789686203,\n",
       " 0.143188014626503,\n",
       " 0.14568787813186646,\n",
       " 0.14535783231258392,\n",
       " 0.14336316287517548,\n",
       " 0.14413820207118988,\n",
       " 0.1447903960943222,\n",
       " 0.14336423575878143,\n",
       " 0.13579319417476654,\n",
       " 0.1347074806690216,\n",
       " 0.1367805451154709,\n",
       " 0.13185946643352509,\n",
       " 0.13261409103870392,\n",
       " 0.13147026300430298,\n",
       " 0.13059529662132263,\n",
       " 0.13504575192928314,\n",
       " 0.12847498059272766,\n",
       " 0.1283341497182846,\n",
       " 0.12393578886985779,\n",
       " 0.12696515023708344,\n",
       " 0.12289855629205704,\n",
       " 0.12791678309440613,\n",
       " 0.12679223716259003,\n",
       " 0.1336059421300888,\n",
       " 0.12318000197410583,\n",
       " 0.1259734183549881,\n",
       " 0.1244434267282486,\n",
       " 0.12355293333530426,\n",
       " 0.12447811663150787,\n",
       " 0.12204655259847641,\n",
       " 0.12384708970785141,\n",
       " 0.12005043029785156,\n",
       " 0.12080501019954681,\n",
       " 0.120576873421669,\n",
       " 0.12335827946662903,\n",
       " 0.11909431964159012,\n",
       " 0.1167149618268013,\n",
       " 0.11663726717233658,\n",
       " 0.11764249950647354,\n",
       " 0.11551933735609055,\n",
       " 0.11528545618057251,\n",
       " 0.11526095122098923,\n",
       " 0.11347246915102005,\n",
       " 0.11368920654058456,\n",
       " 0.11425070464611053,\n",
       " 0.11270707845687866,\n",
       " 0.11379669606685638,\n",
       " 0.11375221610069275,\n",
       " 0.11737692356109619,\n",
       " 0.11063986271619797,\n",
       " 0.11385104805231094,\n",
       " 0.1102231815457344,\n",
       " 0.11425607651472092,\n",
       " 0.10433486104011536,\n",
       " 0.10666117072105408]"
      ]
     },
     "execution_count": 43,
     "metadata": {},
     "output_type": "execute_result"
    }
   ],
   "source": [
    "hist.history[\"val_loss\"]   #this show the validation loss of the data when the epochs are running"
   ]
  },
  {
   "cell_type": "code",
   "execution_count": 44,
   "id": "0d945ac3",
   "metadata": {
    "execution": {
     "iopub.execute_input": "2022-09-27T09:29:45.170132Z",
     "iopub.status.busy": "2022-09-27T09:29:45.169088Z",
     "iopub.status.idle": "2022-09-27T09:29:45.175061Z",
     "shell.execute_reply": "2022-09-27T09:29:45.174281Z"
    },
    "papermill": {
     "duration": 0.035801,
     "end_time": "2022-09-27T09:29:45.177053",
     "exception": false,
     "start_time": "2022-09-27T09:29:45.141252",
     "status": "completed"
    },
    "tags": []
   },
   "outputs": [
    {
     "data": {
      "text/plain": [
       "list"
      ]
     },
     "execution_count": 44,
     "metadata": {},
     "output_type": "execute_result"
    }
   ],
   "source": [
    "type(hist.history[\"loss\"])"
   ]
  },
  {
   "cell_type": "code",
   "execution_count": 45,
   "id": "316be87b",
   "metadata": {
    "execution": {
     "iopub.execute_input": "2022-09-27T09:29:45.232341Z",
     "iopub.status.busy": "2022-09-27T09:29:45.231152Z",
     "iopub.status.idle": "2022-09-27T09:29:45.446832Z",
     "shell.execute_reply": "2022-09-27T09:29:45.445686Z"
    },
    "papermill": {
     "duration": 0.245963,
     "end_time": "2022-09-27T09:29:45.449385",
     "exception": false,
     "start_time": "2022-09-27T09:29:45.203422",
     "status": "completed"
    },
    "tags": []
   },
   "outputs": [
    {
     "data": {
      "text/plain": [
       "<matplotlib.legend.Legend at 0x7f0940dc6690>"
      ]
     },
     "execution_count": 45,
     "metadata": {},
     "output_type": "execute_result"
    },
    {
     "data": {
      "image/png": "[encoded data removed]",
      "text/plain": [
       "<Figure size 432x288 with 1 Axes>"
      ]
     },
     "metadata": {
      "needs_background": "light"
     },
     "output_type": "display_data"
    }
   ],
   "source": [
    "plt.plot(hist.history[\"loss\"],color=\"green\",label=\"training loss\")\n",
    "plt.plot(hist.history[\"val_loss\"],color=\"red\",label=\"testing loss\")\n",
    "plt.xlabel(\"epochs\")\n",
    "plt.ylabel(\"loss\")\n",
    "plt.legend()"
   ]
  },
  {
   "cell_type": "code",
   "execution_count": null,
   "id": "93fc5b2a",
   "metadata": {
    "papermill": {
     "duration": 0.026447,
     "end_time": "2022-09-27T09:29:45.503075",
     "exception": false,
     "start_time": "2022-09-27T09:29:45.476628",
     "status": "completed"
    },
    "tags": []
   },
   "outputs": [],
   "source": []
  },
  {
   "cell_type": "code",
   "execution_count": null,
   "id": "0eac7d15",
   "metadata": {
    "papermill": {
     "duration": 0.026418,
     "end_time": "2022-09-27T09:29:45.556311",
     "exception": false,
     "start_time": "2022-09-27T09:29:45.529893",
     "status": "completed"
    },
    "tags": []
   },
   "outputs": [],
   "source": []
  }
 ],
 "metadata": {
  "kernelspec": {
   "display_name": "Python 3",
   "language": "python",
   "name": "python3"
  },
  "language_info": {
   "codemirror_mode": {
    "name": "ipython",
    "version": 3
   },
   "file_extension": ".py",
   "mimetype": "text/x-python",
   "name": "python",
   "nbconvert_exporter": "python",
   "pygments_lexer": "ipython3",
   "version": "3.7.12"
  },
  "papermill": {
   "default_parameters": {},
   "duration": 34.157112,
   "end_time": "2022-09-27T09:29:48.613323",
   "environment_variables": {},
   "exception": null,
   "input_path": "__notebook__.ipynb",
   "output_path": "__notebook__.ipynb",
   "parameters": {},
   "start_time": "2022-09-27T09:29:14.456211",
   "version": "2.3.4"
  }
 },
 "nbformat": 4,
 "nbformat_minor": 5
}

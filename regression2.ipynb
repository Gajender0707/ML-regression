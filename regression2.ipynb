{
 "cells": [
  {
   "cell_type": "code",
   "execution_count": 1,
   "id": "d7768b99",
   "metadata": {},
   "outputs": [],
   "source": [
    "import pandas as pd\n",
    "import numpy as np\n",
    "import matplotlib.pyplot as plt"
   ]
  },
  {
   "cell_type": "code",
   "execution_count": 2,
   "id": "657044d7",
   "metadata": {},
   "outputs": [],
   "source": [
    "data=pd.read_csv(\"main.csv\")"
   ]
  },
  {
   "cell_type": "code",
   "execution_count": 3,
   "id": "980dcc9e",
   "metadata": {},
   "outputs": [
    {
     "data": {
      "text/html": [
       "<div>\n",
       "<style scoped>\n",
       "    .dataframe tbody tr th:only-of-type {\n",
       "        vertical-align: middle;\n",
       "    }\n",
       "\n",
       "    .dataframe tbody tr th {\n",
       "        vertical-align: top;\n",
       "    }\n",
       "\n",
       "    .dataframe thead th {\n",
       "        text-align: right;\n",
       "    }\n",
       "</style>\n",
       "<table border=\"1\" class=\"dataframe\">\n",
       "  <thead>\n",
       "    <tr style=\"text-align: right;\">\n",
       "      <th></th>\n",
       "      <th>male</th>\n",
       "      <th>age</th>\n",
       "      <th>education</th>\n",
       "      <th>currentSmoker</th>\n",
       "      <th>cigsPerDay</th>\n",
       "      <th>BPMeds</th>\n",
       "      <th>prevalentStroke</th>\n",
       "      <th>prevalentHyp</th>\n",
       "      <th>diabetes</th>\n",
       "      <th>totChol</th>\n",
       "      <th>sysBP</th>\n",
       "      <th>diaBP</th>\n",
       "      <th>BMI</th>\n",
       "      <th>heartRate</th>\n",
       "      <th>glucose</th>\n",
       "      <th>TenYearCHD</th>\n",
       "    </tr>\n",
       "  </thead>\n",
       "  <tbody>\n",
       "    <tr>\n",
       "      <th>0</th>\n",
       "      <td>1</td>\n",
       "      <td>39</td>\n",
       "      <td>4.0</td>\n",
       "      <td>0</td>\n",
       "      <td>0.0</td>\n",
       "      <td>0.0</td>\n",
       "      <td>0</td>\n",
       "      <td>0</td>\n",
       "      <td>0</td>\n",
       "      <td>195.0</td>\n",
       "      <td>106.0</td>\n",
       "      <td>70.0</td>\n",
       "      <td>26.97</td>\n",
       "      <td>80.0</td>\n",
       "      <td>77.0</td>\n",
       "      <td>0</td>\n",
       "    </tr>\n",
       "    <tr>\n",
       "      <th>1</th>\n",
       "      <td>0</td>\n",
       "      <td>46</td>\n",
       "      <td>2.0</td>\n",
       "      <td>0</td>\n",
       "      <td>0.0</td>\n",
       "      <td>0.0</td>\n",
       "      <td>0</td>\n",
       "      <td>0</td>\n",
       "      <td>0</td>\n",
       "      <td>250.0</td>\n",
       "      <td>121.0</td>\n",
       "      <td>81.0</td>\n",
       "      <td>28.73</td>\n",
       "      <td>95.0</td>\n",
       "      <td>76.0</td>\n",
       "      <td>0</td>\n",
       "    </tr>\n",
       "    <tr>\n",
       "      <th>2</th>\n",
       "      <td>1</td>\n",
       "      <td>48</td>\n",
       "      <td>1.0</td>\n",
       "      <td>1</td>\n",
       "      <td>20.0</td>\n",
       "      <td>0.0</td>\n",
       "      <td>0</td>\n",
       "      <td>0</td>\n",
       "      <td>0</td>\n",
       "      <td>245.0</td>\n",
       "      <td>127.5</td>\n",
       "      <td>80.0</td>\n",
       "      <td>25.34</td>\n",
       "      <td>75.0</td>\n",
       "      <td>70.0</td>\n",
       "      <td>0</td>\n",
       "    </tr>\n",
       "    <tr>\n",
       "      <th>3</th>\n",
       "      <td>0</td>\n",
       "      <td>61</td>\n",
       "      <td>3.0</td>\n",
       "      <td>1</td>\n",
       "      <td>30.0</td>\n",
       "      <td>0.0</td>\n",
       "      <td>0</td>\n",
       "      <td>1</td>\n",
       "      <td>0</td>\n",
       "      <td>225.0</td>\n",
       "      <td>150.0</td>\n",
       "      <td>95.0</td>\n",
       "      <td>28.58</td>\n",
       "      <td>65.0</td>\n",
       "      <td>103.0</td>\n",
       "      <td>1</td>\n",
       "    </tr>\n",
       "    <tr>\n",
       "      <th>4</th>\n",
       "      <td>0</td>\n",
       "      <td>46</td>\n",
       "      <td>3.0</td>\n",
       "      <td>1</td>\n",
       "      <td>23.0</td>\n",
       "      <td>0.0</td>\n",
       "      <td>0</td>\n",
       "      <td>0</td>\n",
       "      <td>0</td>\n",
       "      <td>285.0</td>\n",
       "      <td>130.0</td>\n",
       "      <td>84.0</td>\n",
       "      <td>23.10</td>\n",
       "      <td>85.0</td>\n",
       "      <td>85.0</td>\n",
       "      <td>0</td>\n",
       "    </tr>\n",
       "  </tbody>\n",
       "</table>\n",
       "</div>"
      ],
      "text/plain": [
       "   male  age  education  currentSmoker  cigsPerDay  BPMeds  prevalentStroke  \\\n",
       "0     1   39        4.0              0         0.0     0.0                0   \n",
       "1     0   46        2.0              0         0.0     0.0                0   \n",
       "2     1   48        1.0              1        20.0     0.0                0   \n",
       "3     0   61        3.0              1        30.0     0.0                0   \n",
       "4     0   46        3.0              1        23.0     0.0                0   \n",
       "\n",
       "   prevalentHyp  diabetes  totChol  sysBP  diaBP    BMI  heartRate  glucose  \\\n",
       "0             0         0    195.0  106.0   70.0  26.97       80.0     77.0   \n",
       "1             0         0    250.0  121.0   81.0  28.73       95.0     76.0   \n",
       "2             0         0    245.0  127.5   80.0  25.34       75.0     70.0   \n",
       "3             1         0    225.0  150.0   95.0  28.58       65.0    103.0   \n",
       "4             0         0    285.0  130.0   84.0  23.10       85.0     85.0   \n",
       "\n",
       "   TenYearCHD  \n",
       "0           0  \n",
       "1           0  \n",
       "2           0  \n",
       "3           1  \n",
       "4           0  "
      ]
     },
     "execution_count": 3,
     "metadata": {},
     "output_type": "execute_result"
    }
   ],
   "source": [
    "data.head()"
   ]
  },
  {
   "cell_type": "code",
   "execution_count": 4,
   "id": "2356fab7",
   "metadata": {},
   "outputs": [],
   "source": [
    "x=data.age[0:20]"
   ]
  },
  {
   "cell_type": "code",
   "execution_count": 5,
   "id": "0345fbaf",
   "metadata": {},
   "outputs": [],
   "source": [
    "x_data=np.array(x)"
   ]
  },
  {
   "cell_type": "code",
   "execution_count": 6,
   "id": "68c7ebd7",
   "metadata": {},
   "outputs": [
    {
     "data": {
      "text/plain": [
       "array([39, 46, 48, 61, 46, 43, 63, 45, 52, 43, 50, 43, 46, 41, 39, 38, 48,\n",
       "       46, 38, 41], dtype=int64)"
      ]
     },
     "execution_count": 6,
     "metadata": {},
     "output_type": "execute_result"
    }
   ],
   "source": [
    "x_data"
   ]
  },
  {
   "cell_type": "code",
   "execution_count": 7,
   "id": "50305824",
   "metadata": {},
   "outputs": [],
   "source": [
    "y=data.diaBP[0:20]"
   ]
  },
  {
   "cell_type": "code",
   "execution_count": 8,
   "id": "90cbda3f",
   "metadata": {},
   "outputs": [],
   "source": [
    "y_data=np.array(y)"
   ]
  },
  {
   "cell_type": "code",
   "execution_count": 9,
   "id": "cfe7627d",
   "metadata": {},
   "outputs": [
    {
     "data": {
      "text/plain": [
       "array([ 70. ,  81. ,  80. ,  95. ,  84. , 110. ,  71. ,  71. ,  89. ,\n",
       "       107. ,  76. ,  88. ,  94. ,  88. ,  64. ,  90. ,  90. ,  78. ,\n",
       "        84.5,  88. ])"
      ]
     },
     "execution_count": 9,
     "metadata": {},
     "output_type": "execute_result"
    }
   ],
   "source": [
    "y_data"
   ]
  },
  {
   "cell_type": "code",
   "execution_count": 10,
   "id": "156ae632",
   "metadata": {},
   "outputs": [],
   "source": [
    "w0=.3\n",
    "w1=.5"
   ]
  },
  {
   "cell_type": "code",
   "execution_count": 11,
   "id": "d689c7bc",
   "metadata": {},
   "outputs": [],
   "source": [
    "yp=w0+w1*x_data"
   ]
  },
  {
   "cell_type": "code",
   "execution_count": 12,
   "id": "4247cf52",
   "metadata": {},
   "outputs": [
    {
     "data": {
      "text/plain": [
       "array([19.8, 23.3, 24.3, 30.8, 23.3, 21.8, 31.8, 22.8, 26.3, 21.8, 25.3,\n",
       "       21.8, 23.3, 20.8, 19.8, 19.3, 24.3, 23.3, 19.3, 20.8])"
      ]
     },
     "execution_count": 12,
     "metadata": {},
     "output_type": "execute_result"
    }
   ],
   "source": [
    "yp"
   ]
  },
  {
   "cell_type": "code",
   "execution_count": 13,
   "id": "a6cd8a53",
   "metadata": {},
   "outputs": [],
   "source": [
    "n=len(x_data)"
   ]
  },
  {
   "cell_type": "code",
   "execution_count": 14,
   "id": "856d4915",
   "metadata": {},
   "outputs": [
    {
     "data": {
      "text/plain": [
       "20"
      ]
     },
     "execution_count": 14,
     "metadata": {},
     "output_type": "execute_result"
    }
   ],
   "source": [
    "n"
   ]
  },
  {
   "cell_type": "code",
   "execution_count": 15,
   "id": "cb97900e",
   "metadata": {},
   "outputs": [],
   "source": [
    "loss=1/n*sum((yp-y)**2)"
   ]
  },
  {
   "cell_type": "code",
   "execution_count": 16,
   "id": "e001dd7a",
   "metadata": {},
   "outputs": [
    {
     "data": {
      "text/plain": [
       "3954.1124999999993"
      ]
     },
     "execution_count": 16,
     "metadata": {},
     "output_type": "execute_result"
    }
   ],
   "source": [
    "loss"
   ]
  },
  {
   "cell_type": "code",
   "execution_count": 17,
   "id": "cbe2501f",
   "metadata": {},
   "outputs": [],
   "source": [
    "#as we know that the formula for the updating the w0 or w1 and so on is >>>>  w0=w0-ln*dlossw0\n",
    "#where the dlossw0=2/n*sum(yp-y)"
   ]
  },
  {
   "cell_type": "code",
   "execution_count": 18,
   "id": "577f464f",
   "metadata": {},
   "outputs": [],
   "source": [
    "dlossw0=2/n*sum(yp-y)"
   ]
  },
  {
   "cell_type": "code",
   "execution_count": 19,
   "id": "425d26cf",
   "metadata": {},
   "outputs": [
    {
     "data": {
      "text/plain": [
       "-123.45000000000005"
      ]
     },
     "execution_count": 19,
     "metadata": {},
     "output_type": "execute_result"
    }
   ],
   "source": [
    "dlossw0"
   ]
  },
  {
   "cell_type": "code",
   "execution_count": 20,
   "id": "40274c30",
   "metadata": {},
   "outputs": [],
   "source": [
    "dlossw1=2/n*sum((yp-y)*x_data)"
   ]
  },
  {
   "cell_type": "code",
   "execution_count": 21,
   "id": "2e46fe79",
   "metadata": {},
   "outputs": [
    {
     "data": {
      "text/plain": [
       "-5605.119999999999"
      ]
     },
     "execution_count": 21,
     "metadata": {},
     "output_type": "execute_result"
    }
   ],
   "source": [
    "dlossw1"
   ]
  },
  {
   "cell_type": "code",
   "execution_count": 25,
   "id": "e370b00e",
   "metadata": {},
   "outputs": [
    {
     "name": "stdout",
     "output_type": "stream",
     "text": [
      "3954.1124999999993\n",
      "3646.520768467311\n",
      "3364.7246204445883\n",
      "3106.5607584942836\n",
      "2870.0473059946066\n",
      "2653.368592628645\n",
      "2454.8612158094506\n",
      "2273.001271037122\n",
      "2106.3926531576603\n",
      "1953.756338714443\n",
      "1813.9205671148684\n",
      "1685.8118452347326\n",
      "1568.4467064043179\n",
      "1460.924160511404\n",
      "1362.4187772619962\n",
      "1272.1743495002074\n",
      "1189.4980879417406\n",
      "1113.7553027549764\n",
      "1044.3645311611322\n",
      "980.7930736489366\n"
     ]
    },
    {
     "data": {
      "image/png": "[encoded data removed]",
      "text/plain": [
       "<Figure size 432x288 with 1 Axes>"
      ]
     },
     "metadata": {
      "needs_background": "light"
     },
     "output_type": "display_data"
    }
   ],
   "source": [
    "lr=.00001\n",
    "w0=.3\n",
    "w1=.5\n",
    "k=0\n",
    "while(k<20):\n",
    "    k=k+1\n",
    "    yp=w0+w1*x_data\n",
    "    loss=1/n*sum((yp-y)**2)\n",
    "    print(loss)\n",
    "    dlossw0=2/n*sum(yp-y)\n",
    "    dlossw1=2/n*sum((yp-y)*x_data)\n",
    "    w0=w0-lr*dlossw0\n",
    "    w1=w1-lr*dlossw1\n",
    "    plt.plot(x_data,y_data)\n",
    "    plt.plot(x_data,yp)\n",
    "    \n",
    "    \n"
   ]
  },
  {
   "cell_type": "code",
   "execution_count": null,
   "id": "729469bc",
   "metadata": {},
   "outputs": [],
   "source": []
  },
  {
   "cell_type": "code",
   "execution_count": null,
   "id": "f32083bb",
   "metadata": {},
   "outputs": [],
   "source": []
  }
 ],
 "metadata": {
  "kernelspec": {
   "display_name": "Python 3 (ipykernel)",
   "language": "python",
   "name": "python3"
  },
  "language_info": {
   "codemirror_mode": {
    "name": "ipython",
    "version": 3
   },
   "file_extension": ".py",
   "mimetype": "text/x-python",
   "name": "python",
   "nbconvert_exporter": "python",
   "pygments_lexer": "ipython3",
   "version": "3.9.4"
  }
 },
 "nbformat": 4,
 "nbformat_minor": 5
}

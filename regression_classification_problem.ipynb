{
 "cells": [
  {
   "cell_type": "code",
   "execution_count": 1,
   "id": "9d7bd1b8",
   "metadata": {},
   "outputs": [],
   "source": [
    "import pandas  as pd\n",
    "import numpy as np"
   ]
  },
  {
   "cell_type": "code",
   "execution_count": 2,
   "id": "6d20364c",
   "metadata": {},
   "outputs": [],
   "source": [
    "data=pd.read_csv(\"humidity.csv\")"
   ]
  },
  {
   "cell_type": "code",
   "execution_count": 3,
   "id": "6b9beec6",
   "metadata": {},
   "outputs": [
    {
     "data": {
      "text/html": [
       "<div>\n",
       "<style scoped>\n",
       "    .dataframe tbody tr th:only-of-type {\n",
       "        vertical-align: middle;\n",
       "    }\n",
       "\n",
       "    .dataframe tbody tr th {\n",
       "        vertical-align: top;\n",
       "    }\n",
       "\n",
       "    .dataframe thead th {\n",
       "        text-align: right;\n",
       "    }\n",
       "</style>\n",
       "<table border=\"1\" class=\"dataframe\">\n",
       "  <thead>\n",
       "    <tr style=\"text-align: right;\">\n",
       "      <th></th>\n",
       "      <th>sensor_id</th>\n",
       "      <th>lat</th>\n",
       "      <th>lon</th>\n",
       "      <th>pressure</th>\n",
       "      <th>temperature</th>\n",
       "      <th>humidity</th>\n",
       "    </tr>\n",
       "  </thead>\n",
       "  <tbody>\n",
       "    <tr>\n",
       "      <th>0</th>\n",
       "      <td>2266</td>\n",
       "      <td>42.738</td>\n",
       "      <td>23.272</td>\n",
       "      <td>95270.27</td>\n",
       "      <td>23.46</td>\n",
       "      <td>62.48</td>\n",
       "    </tr>\n",
       "    <tr>\n",
       "      <th>1</th>\n",
       "      <td>2292</td>\n",
       "      <td>42.663</td>\n",
       "      <td>23.273</td>\n",
       "      <td>94355.83</td>\n",
       "      <td>23.06</td>\n",
       "      <td>59.46</td>\n",
       "    </tr>\n",
       "    <tr>\n",
       "      <th>2</th>\n",
       "      <td>3096</td>\n",
       "      <td>42.700</td>\n",
       "      <td>23.360</td>\n",
       "      <td>95155.81</td>\n",
       "      <td>26.53</td>\n",
       "      <td>44.38</td>\n",
       "    </tr>\n",
       "    <tr>\n",
       "      <th>3</th>\n",
       "      <td>3428</td>\n",
       "      <td>42.624</td>\n",
       "      <td>23.406</td>\n",
       "      <td>94679.57</td>\n",
       "      <td>28.34</td>\n",
       "      <td>38.28</td>\n",
       "    </tr>\n",
       "    <tr>\n",
       "      <th>4</th>\n",
       "      <td>3472</td>\n",
       "      <td>42.669</td>\n",
       "      <td>23.318</td>\n",
       "      <td>94327.88</td>\n",
       "      <td>26.31</td>\n",
       "      <td>46.37</td>\n",
       "    </tr>\n",
       "  </tbody>\n",
       "</table>\n",
       "</div>"
      ],
      "text/plain": [
       "   sensor_id     lat     lon  pressure  temperature  humidity\n",
       "0       2266  42.738  23.272  95270.27        23.46     62.48\n",
       "1       2292  42.663  23.273  94355.83        23.06     59.46\n",
       "2       3096  42.700  23.360  95155.81        26.53     44.38\n",
       "3       3428  42.624  23.406  94679.57        28.34     38.28\n",
       "4       3472  42.669  23.318  94327.88        26.31     46.37"
      ]
     },
     "execution_count": 3,
     "metadata": {},
     "output_type": "execute_result"
    }
   ],
   "source": [
    "data.head()"
   ]
  },
  {
   "cell_type": "code",
   "execution_count": 4,
   "id": "8140ee38",
   "metadata": {},
   "outputs": [],
   "source": [
    "data=data.drop(\"sensor_id\",axis=1)"
   ]
  },
  {
   "cell_type": "code",
   "execution_count": 5,
   "id": "d9fcc354",
   "metadata": {},
   "outputs": [],
   "source": [
    "data=data.drop(\"lat\",axis=1)"
   ]
  },
  {
   "cell_type": "code",
   "execution_count": 6,
   "id": "206fced6",
   "metadata": {},
   "outputs": [],
   "source": [
    "data=data.drop(\"lon\",axis=1)"
   ]
  },
  {
   "cell_type": "code",
   "execution_count": 7,
   "id": "e3fb83f0",
   "metadata": {},
   "outputs": [
    {
     "data": {
      "text/html": [
       "<div>\n",
       "<style scoped>\n",
       "    .dataframe tbody tr th:only-of-type {\n",
       "        vertical-align: middle;\n",
       "    }\n",
       "\n",
       "    .dataframe tbody tr th {\n",
       "        vertical-align: top;\n",
       "    }\n",
       "\n",
       "    .dataframe thead th {\n",
       "        text-align: right;\n",
       "    }\n",
       "</style>\n",
       "<table border=\"1\" class=\"dataframe\">\n",
       "  <thead>\n",
       "    <tr style=\"text-align: right;\">\n",
       "      <th></th>\n",
       "      <th>pressure</th>\n",
       "      <th>temperature</th>\n",
       "      <th>humidity</th>\n",
       "    </tr>\n",
       "  </thead>\n",
       "  <tbody>\n",
       "    <tr>\n",
       "      <th>0</th>\n",
       "      <td>95270.27</td>\n",
       "      <td>23.46</td>\n",
       "      <td>62.48</td>\n",
       "    </tr>\n",
       "    <tr>\n",
       "      <th>1</th>\n",
       "      <td>94355.83</td>\n",
       "      <td>23.06</td>\n",
       "      <td>59.46</td>\n",
       "    </tr>\n",
       "    <tr>\n",
       "      <th>2</th>\n",
       "      <td>95155.81</td>\n",
       "      <td>26.53</td>\n",
       "      <td>44.38</td>\n",
       "    </tr>\n",
       "    <tr>\n",
       "      <th>3</th>\n",
       "      <td>94679.57</td>\n",
       "      <td>28.34</td>\n",
       "      <td>38.28</td>\n",
       "    </tr>\n",
       "    <tr>\n",
       "      <th>4</th>\n",
       "      <td>94327.88</td>\n",
       "      <td>26.31</td>\n",
       "      <td>46.37</td>\n",
       "    </tr>\n",
       "    <tr>\n",
       "      <th>...</th>\n",
       "      <td>...</td>\n",
       "      <td>...</td>\n",
       "      <td>...</td>\n",
       "    </tr>\n",
       "    <tr>\n",
       "      <th>701543</th>\n",
       "      <td>95562.08</td>\n",
       "      <td>21.99</td>\n",
       "      <td>52.28</td>\n",
       "    </tr>\n",
       "    <tr>\n",
       "      <th>701544</th>\n",
       "      <td>96070.06</td>\n",
       "      <td>21.41</td>\n",
       "      <td>56.84</td>\n",
       "    </tr>\n",
       "    <tr>\n",
       "      <th>701545</th>\n",
       "      <td>95230.42</td>\n",
       "      <td>22.53</td>\n",
       "      <td>51.72</td>\n",
       "    </tr>\n",
       "    <tr>\n",
       "      <th>701546</th>\n",
       "      <td>95653.14</td>\n",
       "      <td>23.01</td>\n",
       "      <td>49.78</td>\n",
       "    </tr>\n",
       "    <tr>\n",
       "      <th>701547</th>\n",
       "      <td>95418.48</td>\n",
       "      <td>22.57</td>\n",
       "      <td>51.44</td>\n",
       "    </tr>\n",
       "  </tbody>\n",
       "</table>\n",
       "<p>701548 rows × 3 columns</p>\n",
       "</div>"
      ],
      "text/plain": [
       "        pressure  temperature  humidity\n",
       "0       95270.27        23.46     62.48\n",
       "1       94355.83        23.06     59.46\n",
       "2       95155.81        26.53     44.38\n",
       "3       94679.57        28.34     38.28\n",
       "4       94327.88        26.31     46.37\n",
       "...          ...          ...       ...\n",
       "701543  95562.08        21.99     52.28\n",
       "701544  96070.06        21.41     56.84\n",
       "701545  95230.42        22.53     51.72\n",
       "701546  95653.14        23.01     49.78\n",
       "701547  95418.48        22.57     51.44\n",
       "\n",
       "[701548 rows x 3 columns]"
      ]
     },
     "execution_count": 7,
     "metadata": {},
     "output_type": "execute_result"
    }
   ],
   "source": [
    "data"
   ]
  },
  {
   "cell_type": "code",
   "execution_count": 8,
   "id": "247d440f",
   "metadata": {},
   "outputs": [],
   "source": [
    "y=data.humidity"
   ]
  },
  {
   "cell_type": "code",
   "execution_count": 9,
   "id": "cbcae019",
   "metadata": {},
   "outputs": [],
   "source": [
    "x=data.drop(\"humidity\",axis=1)"
   ]
  },
  {
   "cell_type": "code",
   "execution_count": 10,
   "id": "385b6eab",
   "metadata": {},
   "outputs": [
    {
     "data": {
      "text/html": [
       "<div>\n",
       "<style scoped>\n",
       "    .dataframe tbody tr th:only-of-type {\n",
       "        vertical-align: middle;\n",
       "    }\n",
       "\n",
       "    .dataframe tbody tr th {\n",
       "        vertical-align: top;\n",
       "    }\n",
       "\n",
       "    .dataframe thead th {\n",
       "        text-align: right;\n",
       "    }\n",
       "</style>\n",
       "<table border=\"1\" class=\"dataframe\">\n",
       "  <thead>\n",
       "    <tr style=\"text-align: right;\">\n",
       "      <th></th>\n",
       "      <th>pressure</th>\n",
       "      <th>temperature</th>\n",
       "    </tr>\n",
       "  </thead>\n",
       "  <tbody>\n",
       "    <tr>\n",
       "      <th>0</th>\n",
       "      <td>95270.27</td>\n",
       "      <td>23.46</td>\n",
       "    </tr>\n",
       "    <tr>\n",
       "      <th>1</th>\n",
       "      <td>94355.83</td>\n",
       "      <td>23.06</td>\n",
       "    </tr>\n",
       "    <tr>\n",
       "      <th>2</th>\n",
       "      <td>95155.81</td>\n",
       "      <td>26.53</td>\n",
       "    </tr>\n",
       "    <tr>\n",
       "      <th>3</th>\n",
       "      <td>94679.57</td>\n",
       "      <td>28.34</td>\n",
       "    </tr>\n",
       "    <tr>\n",
       "      <th>4</th>\n",
       "      <td>94327.88</td>\n",
       "      <td>26.31</td>\n",
       "    </tr>\n",
       "    <tr>\n",
       "      <th>...</th>\n",
       "      <td>...</td>\n",
       "      <td>...</td>\n",
       "    </tr>\n",
       "    <tr>\n",
       "      <th>701543</th>\n",
       "      <td>95562.08</td>\n",
       "      <td>21.99</td>\n",
       "    </tr>\n",
       "    <tr>\n",
       "      <th>701544</th>\n",
       "      <td>96070.06</td>\n",
       "      <td>21.41</td>\n",
       "    </tr>\n",
       "    <tr>\n",
       "      <th>701545</th>\n",
       "      <td>95230.42</td>\n",
       "      <td>22.53</td>\n",
       "    </tr>\n",
       "    <tr>\n",
       "      <th>701546</th>\n",
       "      <td>95653.14</td>\n",
       "      <td>23.01</td>\n",
       "    </tr>\n",
       "    <tr>\n",
       "      <th>701547</th>\n",
       "      <td>95418.48</td>\n",
       "      <td>22.57</td>\n",
       "    </tr>\n",
       "  </tbody>\n",
       "</table>\n",
       "<p>701548 rows × 2 columns</p>\n",
       "</div>"
      ],
      "text/plain": [
       "        pressure  temperature\n",
       "0       95270.27        23.46\n",
       "1       94355.83        23.06\n",
       "2       95155.81        26.53\n",
       "3       94679.57        28.34\n",
       "4       94327.88        26.31\n",
       "...          ...          ...\n",
       "701543  95562.08        21.99\n",
       "701544  96070.06        21.41\n",
       "701545  95230.42        22.53\n",
       "701546  95653.14        23.01\n",
       "701547  95418.48        22.57\n",
       "\n",
       "[701548 rows x 2 columns]"
      ]
     },
     "execution_count": 10,
     "metadata": {},
     "output_type": "execute_result"
    }
   ],
   "source": [
    "x"
   ]
  },
  {
   "cell_type": "code",
   "execution_count": 11,
   "id": "8ce5a088",
   "metadata": {},
   "outputs": [],
   "source": [
    "def regression(x,y):\n",
    "    from sklearn.linear_model import LinearRegression\n",
    "    from sklearn.model_selection import train_test_split\n",
    "    x_train,x_test,y_train,y_test=train_test_split(x,y,test_size=1/3)\n",
    "    model=LinearRegression()\n",
    "    model.fit(x_train,y_train)\n",
    "    print(\"the training model scrore: \",model.score(x_train,y_train))\n",
    "    print(\"the testing model score : \",model.score(x_test,y_test))\n",
    "    return model"
   ]
  },
  {
   "cell_type": "code",
   "execution_count": 12,
   "id": "55e7f576",
   "metadata": {},
   "outputs": [
    {
     "name": "stdout",
     "output_type": "stream",
     "text": [
      "the training model scrore:  0.2827888322716856\n",
      "the testing model score :  0.28459393331313965\n"
     ]
    },
    {
     "data": {
      "text/plain": [
       "LinearRegression()"
      ]
     },
     "execution_count": 12,
     "metadata": {},
     "output_type": "execute_result"
    }
   ],
   "source": [
    "regression(x,y)  #hence this is the underfit data..."
   ]
  },
  {
   "cell_type": "code",
   "execution_count": 13,
   "id": "78aa6284",
   "metadata": {},
   "outputs": [],
   "source": [
    "#using the polynomiafeatures"
   ]
  },
  {
   "cell_type": "code",
   "execution_count": 14,
   "id": "0f75896a",
   "metadata": {},
   "outputs": [],
   "source": [
    "y=data.humidity"
   ]
  },
  {
   "cell_type": "code",
   "execution_count": 15,
   "id": "de9daebe",
   "metadata": {},
   "outputs": [],
   "source": [
    "x=data.drop(\"humidity\",axis=1)"
   ]
  },
  {
   "cell_type": "code",
   "execution_count": 16,
   "id": "7cbcf557",
   "metadata": {},
   "outputs": [],
   "source": [
    "def pf(x,y):\n",
    "    from sklearn.linear_model import LinearRegression\n",
    "    from sklearn.model_selection import train_test_split\n",
    "#     from sklearn.preprocessing import PolynomialFeatures\n",
    "    \n",
    "    x_train,x_test,y_train,y_test=train_test_split(x,y,test_size=1/3)\n",
    "#     k=PolynomialFeatures(degree=2)\n",
    "#     x_train=k.fit_transform(x_train)\n",
    "#     print(x_train)\n",
    "#     y_train=k.fit_transform(y_train)\n",
    "    model=LinearRegression()\n",
    "    model.fit(x_train,y_train)\n",
    "    print(\"the training model scrore: \",model.score(x_train,y_train))\n",
    "    print(\"the testing model score : \",model.score(x_test,y_test))\n",
    "    return model\n",
    "    \n",
    "    "
   ]
  },
  {
   "cell_type": "code",
   "execution_count": 17,
   "id": "4ef39f4e",
   "metadata": {},
   "outputs": [
    {
     "name": "stdout",
     "output_type": "stream",
     "text": [
      "the training model scrore:  0.2830686769198114\n",
      "the testing model score :  0.2841826921725211\n"
     ]
    },
    {
     "data": {
      "text/plain": [
       "LinearRegression()"
      ]
     },
     "execution_count": 17,
     "metadata": {},
     "output_type": "execute_result"
    }
   ],
   "source": [
    "regression(x,y)"
   ]
  },
  {
   "cell_type": "code",
   "execution_count": 18,
   "id": "137ecb0a",
   "metadata": {},
   "outputs": [],
   "source": [
    "from sklearn.preprocessing import PolynomialFeatures"
   ]
  },
  {
   "cell_type": "code",
   "execution_count": 19,
   "id": "d7db35c7",
   "metadata": {},
   "outputs": [],
   "source": [
    "k=PolynomialFeatures(degree=2)"
   ]
  },
  {
   "cell_type": "code",
   "execution_count": 20,
   "id": "19d2bd8c",
   "metadata": {},
   "outputs": [],
   "source": [
    "from sklearn.model_selection import train_test_split\n",
    "x_train,x_test,y_train,y_test=train_test_split(x,y,test_size=1/3)"
   ]
  },
  {
   "cell_type": "code",
   "execution_count": 21,
   "id": "4450d014",
   "metadata": {},
   "outputs": [],
   "source": [
    "def pf(x,y):\n",
    "    from sklearn.linear_model import LinearRegression\n",
    "    from sklearn.model_selection import train_test_split\n",
    "#     from sklearn.preprocessing import PolynomialFeatures\n",
    "    \n",
    "    x_train,x_test,y_train,y_test=train_test_split(x,y,test_size=1/3)\n",
    "#     k=PolynomialFeatures(degree=2)\n",
    "#     x_train=k.fit_transform(x_train)\n",
    "#     print(x_train)\n",
    "#     y_train=k.fit_transform(y_train)\n",
    "    model=LinearRegression()\n",
    "    model.fit(x_train,y_train)\n",
    "    print(\"the training model scrore: \",model.score(x_train,y_train))\n",
    "    print(\"the testing model score : \",model.score(x_test,y_test))\n",
    "    return model\n",
    "    \n",
    "    "
   ]
  },
  {
   "cell_type": "code",
   "execution_count": 22,
   "id": "1bd6c3fa",
   "metadata": {},
   "outputs": [],
   "source": [
    "x1=k.fit_transform(x)"
   ]
  },
  {
   "cell_type": "code",
   "execution_count": 23,
   "id": "a0ab60a3",
   "metadata": {},
   "outputs": [
    {
     "name": "stdout",
     "output_type": "stream",
     "text": [
      "the training model scrore:  0.6267536247053438\n",
      "the testing model score :  0.624385066937684\n"
     ]
    },
    {
     "data": {
      "text/plain": [
       "LinearRegression()"
      ]
     },
     "execution_count": 23,
     "metadata": {},
     "output_type": "execute_result"
    }
   ],
   "source": [
    "regression(x1,y)"
   ]
  },
  {
   "cell_type": "code",
   "execution_count": 24,
   "id": "7fcc13b7",
   "metadata": {},
   "outputs": [],
   "source": [
    "f=PolynomialFeatures(degree=5)"
   ]
  },
  {
   "cell_type": "code",
   "execution_count": 25,
   "id": "575f1031",
   "metadata": {},
   "outputs": [],
   "source": [
    "x2=f.fit_transform(x)"
   ]
  },
  {
   "cell_type": "code",
   "execution_count": 26,
   "id": "6ca5ee66",
   "metadata": {},
   "outputs": [
    {
     "name": "stdout",
     "output_type": "stream",
     "text": [
      "the training model scrore:  0.6399962658731257\n",
      "the testing model score :  0.6438506352656731\n"
     ]
    },
    {
     "data": {
      "text/plain": [
       "LinearRegression()"
      ]
     },
     "execution_count": 26,
     "metadata": {},
     "output_type": "execute_result"
    }
   ],
   "source": [
    "regression(x2,y)"
   ]
  },
  {
   "cell_type": "code",
   "execution_count": 27,
   "id": "0efe98be",
   "metadata": {},
   "outputs": [
    {
     "name": "stdout",
     "output_type": "stream",
     "text": [
      "For the degree :  2\n",
      "the training model scrore:  0.6234397921600583\n",
      "the testing model score :  0.6309115581784418\n",
      "For the degree :  3\n",
      "the training model scrore:  0.642070098445819\n",
      "the testing model score :  0.6392910235236138\n",
      "For the degree :  4\n",
      "the training model scrore:  0.6405981125640912\n",
      "the testing model score :  -1.453181292136835\n",
      "For the degree :  5\n",
      "the training model scrore:  0.6411403868462295\n",
      "the testing model score :  0.6415178912013138\n",
      "For the degree :  6\n",
      "the training model scrore:  0.6412406551088193\n",
      "the testing model score :  0.6410168136490507\n",
      "For the degree :  7\n",
      "the training model scrore:  0.6417784909047173\n",
      "the testing model score :  0.6395871852454267\n",
      "For the degree :  8\n",
      "the training model scrore:  0.6412979911983413\n",
      "the testing model score :  0.639816819785072\n",
      "For the degree :  9\n",
      "the training model scrore:  0.641883160893139\n",
      "the testing model score :  -1413.3214628158744\n"
     ]
    }
   ],
   "source": [
    "for i in range(2,10):\n",
    "    k=PolynomialFeatures(degree=i)\n",
    "    x1=k.fit_transform(x)\n",
    "    print(\"For the degree : \",i)\n",
    "    regression(x1,y)\n",
    "    \n"
   ]
  },
  {
   "cell_type": "code",
   "execution_count": null,
   "id": "91f5003b",
   "metadata": {},
   "outputs": [],
   "source": []
  }
 ],
 "metadata": {
  "kernelspec": {
   "display_name": "Python 3 (ipykernel)",
   "language": "python",
   "name": "python3"
  },
  "language_info": {
   "codemirror_mode": {
    "name": "ipython",
    "version": 3
   },
   "file_extension": ".py",
   "mimetype": "text/x-python",
   "name": "python",
   "nbconvert_exporter": "python",
   "pygments_lexer": "ipython3",
   "version": "3.9.4"
  }
 },
 "nbformat": 4,
 "nbformat_minor": 5
}
